{
 "cells": [
  {
   "cell_type": "code",
   "execution_count": null,
   "id": "ff5075d9-63b8-4b1c-8b41-4113669fd656",
   "metadata": {},
   "outputs": [],
   "source": [
    "import os\n",
    "root = os.path.abspath(os.path.join(os.getcwd(),'..'))"
   ]
  },
  {
   "cell_type": "code",
   "execution_count": null,
   "id": "b3667abf-93dd-4b1a-a2e6-65ef51f50632",
   "metadata": {},
   "outputs": [],
   "source": [
    "root"
   ]
  },
  {
   "cell_type": "code",
   "execution_count": null,
   "id": "2ed17ff5-aa87-4d9d-82db-9e156a084ec1",
   "metadata": {},
   "outputs": [],
   "source": [
    "import geopandas as gpd\n",
    "from shapely import geometry"
   ]
  },
  {
   "cell_type": "code",
   "execution_count": null,
   "id": "5d1848a9-5b86-4305-888c-73063e58bce7",
   "metadata": {},
   "outputs": [],
   "source": [
    "coast = gpd.read_file(os.path.join(root,'notebooks','ne_10m_coastline.shp'))"
   ]
  },
  {
   "cell_type": "code",
   "execution_count": null,
   "id": "ac3c681f-1e34-4b9a-b0bd-98f1fee7752c",
   "metadata": {},
   "outputs": [],
   "source": [
    "import matplotlib.pyplot as plt"
   ]
  },
  {
   "cell_type": "code",
   "execution_count": null,
   "id": "b2b21359-ae32-4c0a-86e8-70ab6dd9d7b3",
   "metadata": {},
   "outputs": [],
   "source": [
    "coastline = coast.loc[coast.intersects(c.buffer(0.2))]#['geometry'].iloc[0]"
   ]
  },
  {
   "cell_type": "code",
   "execution_count": null,
   "id": "fcc35d02-b352-4937-ab8c-1fdefd2dba34",
   "metadata": {},
   "outputs": [],
   "source": [
    "coastline.plot()"
   ]
  },
  {
   "cell_type": "code",
   "execution_count": null,
   "id": "06892eb9-0e0f-4327-8fb1-f357aa9af22b",
   "metadata": {},
   "outputs": [],
   "source": [
    "island = geometry.Polygon(coastline.unary_union)"
   ]
  },
  {
   "cell_type": "markdown",
   "id": "02d8f89b-705a-425b-ae9d-f76a26e07605",
   "metadata": {},
   "source": [
    "### Hexes option"
   ]
  },
  {
   "cell_type": "code",
   "execution_count": null,
   "id": "ccc66ee6-7ce8-4eca-b2d8-1578b83a3716",
   "metadata": {},
   "outputs": [],
   "source": [
    "c = geometry.Point(107.93,-2.94)\n",
    "center_hex = _flat_hex_polygon(c, 0.14)\n",
    "big_center_hex = _flat_hex_polygon(c, .8)\n",
    "c_ords = {ii:list(center_hex.exterior.coords)[ii] for ii in range(len(center_hex.exterior.coords))}\n",
    "bc_ords = {ii:list(big_center_hex.exterior.coords)[ii] for ii in range(len(big_center_hex.exterior.coords))}\n",
    "bonus_pt = geometry.Point(107.9,-3.2)\n",
    "bpt = (bonus_pt.x, bonus_pt.y)\n",
    "exteriors = []\n",
    "for ii in range(6):\n",
    "    if ii==3:\n",
    "        exteriors.append(geometry.Polygon([c_ords[ii],bc_ords[ii],bc_ords[ii+1],bpt,c_ords[ii+1],c_ords[ii]]))\n",
    "    elif ii==4:\n",
    "        exteriors.append(geometry.Polygon([c_ords[ii],bpt,bc_ords[ii],bc_ords[ii+1],c_ords[ii+1],c_ords[ii]]))\n",
    "    else:\n",
    "        exteriors.append(geometry.Polygon([c_ords[ii],bc_ords[ii],bc_ords[ii+1],c_ords[ii+1],c_ords[ii]]))"
   ]
  },
  {
   "cell_type": "code",
   "execution_count": null,
   "id": "d55cc185-0e58-42e7-a7f5-bc14c11e6802",
   "metadata": {},
   "outputs": [],
   "source": [
    "gdf = gpd.GeoSeries(exteriors+[center_hex])"
   ]
  },
  {
   "cell_type": "code",
   "execution_count": null,
   "id": "4b78a2bf-ec44-45d0-9958-cac049d2b938",
   "metadata": {},
   "outputs": [],
   "source": [
    "gdf = gdf.intersection(island)"
   ]
  },
  {
   "cell_type": "code",
   "execution_count": null,
   "id": "1f6360c1-472a-4311-923c-2b86e5442889",
   "metadata": {},
   "outputs": [],
   "source": [
    "gdf.boundary.plot()"
   ]
  },
  {
   "cell_type": "markdown",
   "id": "303e3230-32ba-41a3-8f26-352bc37f1466",
   "metadata": {},
   "source": [
    "### GeoVoronoi option"
   ]
  },
  {
   "cell_type": "code",
   "execution_count": null,
   "id": "d10de5b4-695a-4982-91bf-44b9a26fcfa4",
   "metadata": {},
   "outputs": [],
   "source": [
    "from geovoronoi import voronoi_regions_from_coords #polygon_lines_from_voronoi,polygon_shapes_from_voronoi_lines, coords_to_points, assign_points_to_voronoi_polygons\n",
    "from scipy.spatial import Voronoi\n",
    "import numpy as np\n",
    "import pandas as pd"
   ]
  },
  {
   "cell_type": "code",
   "execution_count": null,
   "id": "494e229e-094b-4c4c-849a-466cbde77782",
   "metadata": {},
   "outputs": [],
   "source": [
    "def _resample_coords(coords, dist_thresh=0.014):\n",
    "    \"\"\" increase the sampling of a coordinate sequence\"\"\"\n",
    "    \n",
    "    new_coords = []\n",
    "    new_coords.append(coords[0])\n",
    "    for ii_c in range(1,len(coords)):\n",
    "        dist= np.linalg.norm(np.array(coords[ii_c])-np.array(new_coords[-1]))\n",
    "        while dist>dist_thresh:\n",
    "\n",
    "            n = np.array(coords[ii_c])-np.array(new_coords[-1])\n",
    "            n /= np.linalg.norm(n) #unit vector\n",
    "            new_coord = np.array(new_coords[-1])+n * 0.01\n",
    "            new_coords.append(new_coord)\n",
    "            dist= np.linalg.norm(np.array(coords[ii_c])-np.array(new_coord))\n",
    "\n",
    "        new_coords.append(coords[ii_c])\n",
    "    \n",
    "    return new_coords"
   ]
  },
  {
   "cell_type": "code",
   "execution_count": null,
   "id": "8c87c9c4-73c5-4e24-8814-3af117f19f5c",
   "metadata": {},
   "outputs": [],
   "source": [
    "bbox_buffer = geometry.box(*island.bounds).buffer(0.3)"
   ]
  },
  {
   "cell_type": "code",
   "execution_count": null,
   "id": "89bc02e2-533d-4276-a946-a82e8328381e",
   "metadata": {},
   "outputs": [],
   "source": [
    "shape_coords = _resample_coords(island.exterior.coords)"
   ]
  },
  {
   "cell_type": "code",
   "execution_count": null,
   "id": "3cd9b333-f5ce-4f80-841f-0f4bbe1faf3a",
   "metadata": {},
   "outputs": [],
   "source": [
    "island_resampled = geometry.Polygon(shape_coords)"
   ]
  },
  {
   "cell_type": "code",
   "execution_count": null,
   "id": "fa484909-5efe-4a5f-9700-9f5bb717e89f",
   "metadata": {},
   "outputs": [],
   "source": [
    "shape_coords = np.array(shape_coords)"
   ]
  },
  {
   "cell_type": "code",
   "execution_count": null,
   "id": "123d2dbf-5175-4dcf-9801-eb5a66720ec5",
   "metadata": {},
   "outputs": [],
   "source": [
    "region_polys, region_pts = voronoi_regions_from_coords(shape_coords, bbox_buffer)"
   ]
  },
  {
   "cell_type": "code",
   "execution_count": null,
   "id": "2d8db9f6-9543-4d83-ae4f-c565d46b27aa",
   "metadata": {},
   "outputs": [],
   "source": [
    "fig, ax = plt.subplots(1,1,figsize=(16,16))\n",
    "gpd.GeoSeries(region_polys.values()).boundary.plot(ax=ax)\n",
    "gpd.GeoSeries(island).boundary.plot(ax=ax, color='g')"
   ]
  },
  {
   "cell_type": "code",
   "execution_count": null,
   "id": "c42844f2-a6bc-48e4-a725-cfa64e6fc827",
   "metadata": {},
   "outputs": [],
   "source": [
    "coverage = hexagon_coverage(geometry.box(*island.bounds).centroid,0.1)"
   ]
  },
  {
   "cell_type": "code",
   "execution_count": null,
   "id": "2c5e8137-b9c4-4079-8eac-fb1dd5f0edff",
   "metadata": {},
   "outputs": [],
   "source": [
    "gpd.GeoSeries(coverage).boundary.plot(color='g')"
   ]
  },
  {
   "cell_type": "code",
   "execution_count": null,
   "id": "f087143d-f8b2-46f5-b44a-ecd26db85a77",
   "metadata": {},
   "outputs": [],
   "source": [
    "box = geometry.box(*island.bounds)"
   ]
  },
  {
   "cell_type": "code",
   "execution_count": null,
   "id": "6fc79c5d-bb80-4cd1-9f50-f226c36b2a79",
   "metadata": {},
   "outputs": [],
   "source": [
    "r = 0.01"
   ]
  },
  {
   "cell_type": "code",
   "execution_count": null,
   "id": "66ba4e45-77a8-4a30-8596-740077cbdb46",
   "metadata": {},
   "outputs": [],
   "source": [
    "def hcp(r, box):\n",
    "    del_row = 2*r*np.cos(np.pi/6)\n",
    "    del_col = 2*r\n",
    "    shift = 2*r*np.sin(np.pi/6)\n",
    "    xx,yy = np.meshgrid(\n",
    "        np.arange(box.bounds[0], box.bounds[2], del_col),\n",
    "        np.arange(box.bounds[1], box.bounds[3], del_row),\n",
    "    )\n",
    "    #print (xx.shape)\n",
    "    \n",
    "    shift_rows = np.arange(0,xx.shape[0],2).tolist()\n",
    "    xx[tuple(shift_rows),:]+=shift\n",
    "    \n",
    "    xx = xx.flatten()\n",
    "    yy = yy.flatten()\n",
    "    \n",
    "    return list(zip(xx.tolist(), yy.tolist()))\n",
    "    "
   ]
  },
  {
   "cell_type": "code",
   "execution_count": null,
   "id": "b7af4b13-44d5-46c2-938e-a6a03f0d5bae",
   "metadata": {},
   "outputs": [],
   "source": [
    "pts = hcp(r, box)"
   ]
  },
  {
   "cell_type": "code",
   "execution_count": null,
   "id": "4356ca2b-d79c-4770-b4f1-5dd503c0e482",
   "metadata": {},
   "outputs": [],
   "source": [
    "plt.scatter(np.array(pts)[:,0], np.array(pts)[:,1])"
   ]
  },
  {
   "cell_type": "code",
   "execution_count": null,
   "id": "af00816f-b2df-4e5e-845c-0cee53673c3b",
   "metadata": {},
   "outputs": [],
   "source": [
    "multipt = geometry.MultiPoint(pts)"
   ]
  },
  {
   "cell_type": "code",
   "execution_count": null,
   "id": "ca7b8817-68bb-4a6a-a971-cce19f228915",
   "metadata": {},
   "outputs": [],
   "source": [
    "valid_pts = multipt.intersection(island)"
   ]
  },
  {
   "cell_type": "code",
   "execution_count": null,
   "id": "57755de2-f0f0-402a-8393-eb4603d98589",
   "metadata": {},
   "outputs": [],
   "source": [
    "valid_pts"
   ]
  },
  {
   "cell_type": "code",
   "execution_count": null,
   "id": "076ba480-0192-4eb0-bdcd-ed0822dcc769",
   "metadata": {},
   "outputs": [],
   "source": [
    "from sklearn.cluster import DBSCAN, KMeans"
   ]
  },
  {
   "cell_type": "code",
   "execution_count": null,
   "id": "ff84ea8c-ee8f-49a0-a9b7-3514bff3cc72",
   "metadata": {},
   "outputs": [],
   "source": [
    "pt_array = np.array([(pt.x, pt.y) for pt in valid_pts.geoms])"
   ]
  },
  {
   "cell_type": "code",
   "execution_count": null,
   "id": "039384c1-64d1-4709-a2ce-d9b534f578c5",
   "metadata": {},
   "outputs": [],
   "source": [
    "db = KMeans(n_clusters=2).fit(pt_array)"
   ]
  },
  {
   "cell_type": "code",
   "execution_count": null,
   "id": "255e83ca-c7c6-4e6a-926a-f3e17c551c60",
   "metadata": {},
   "outputs": [],
   "source": [
    "db.labels_"
   ]
  },
  {
   "cell_type": "code",
   "execution_count": null,
   "id": "72007b9a-6cff-41a5-a74c-7278816f0af9",
   "metadata": {},
   "outputs": [],
   "source": [
    "gdf = gpd.GeoDataFrame([gpd.GeoSeries(valid_pts.geoms), db.labels_]).T"
   ]
  },
  {
   "cell_type": "code",
   "execution_count": null,
   "id": "b54a4d79-1b2f-4b19-8de0-1865211d897f",
   "metadata": {},
   "outputs": [],
   "source": [
    "gdf = gdf.rename(columns={0:'geometry',1:'cluster'}).set_geometry('geometry')\n",
    "gdf.plot('cluster')"
   ]
  },
  {
   "cell_type": "code",
   "execution_count": null,
   "id": "4d1cfc27-52d9-40fc-a98c-45fece16e8de",
   "metadata": {},
   "outputs": [],
   "source": [
    "region_polys, region_pts = voronoi_regions_from_coords(pt_array, island_resampled)"
   ]
  },
  {
   "cell_type": "code",
   "execution_count": null,
   "id": "66fc1db1-ea38-4212-be28-d778e7e0e867",
   "metadata": {},
   "outputs": [],
   "source": [
    "gdf_vor = gpd.GeoDataFrame(gpd.GeoSeries(region_polys.values())).rename(columns={0:'vor_geom'}).set_geometry('vor_geom')"
   ]
  },
  {
   "cell_type": "code",
   "execution_count": null,
   "id": "12d3aee1-1a1a-4a7d-bdfc-4dcacdc6a9dd",
   "metadata": {},
   "outputs": [],
   "source": [
    "len(valid_pts)"
   ]
  },
  {
   "cell_type": "code",
   "execution_count": null,
   "id": "ea1eb1dd-3906-410f-bb35-950e35c31583",
   "metadata": {},
   "outputs": [],
   "source": [
    "len(gdf_vor)"
   ]
  },
  {
   "cell_type": "code",
   "execution_count": null,
   "id": "d88480d4-ba59-4441-a6ae-1968396f624e",
   "metadata": {},
   "outputs": [],
   "source": [
    "gdf_vor.boundary.plot()"
   ]
  },
  {
   "cell_type": "code",
   "execution_count": null,
   "id": "9b4b1990-aa55-400e-9bc5-a542cde5aa7f",
   "metadata": {},
   "outputs": [],
   "source": [
    "import area"
   ]
  },
  {
   "cell_type": "code",
   "execution_count": null,
   "id": "60382a1d-acc2-497c-9fde-4e51fe828ab7",
   "metadata": {},
   "outputs": [],
   "source": [
    "gdf_vor = gpd.sjoin(gdf_vor, gdf)\n",
    "gdf_vor.plot(column='cluster')"
   ]
  },
  {
   "cell_type": "code",
   "execution_count": null,
   "id": "10b6cdf2-a09a-4f22-809b-311e00f7b525",
   "metadata": {},
   "outputs": [],
   "source": [
    "gdf_vor.dissolve('cluster').plot()"
   ]
  },
  {
   "cell_type": "code",
   "execution_count": null,
   "id": "b116116b-6272-4982-b9a3-09347e84e1cc",
   "metadata": {},
   "outputs": [],
   "source": [
    "gdf_vor['area'] = gdf_vor['vor_geom'].apply(lambda geom: area.area(geometry.mapping(geom)))"
   ]
  },
  {
   "cell_type": "code",
   "execution_count": null,
   "id": "ca7288cc-0bdf-4d52-ad90-ec896e3e8d22",
   "metadata": {},
   "outputs": [],
   "source": [
    "gdf_vor['area'].mean()/1000/1000"
   ]
  },
  {
   "cell_type": "code",
   "execution_count": null,
   "id": "a2d55ce7-5186-4f51-a144-04791069c6fc",
   "metadata": {},
   "outputs": [],
   "source": [
    "gdf_vor['area'].sum()/1000/1000"
   ]
  },
  {
   "cell_type": "code",
   "execution_count": null,
   "id": "30ff0895-cf6a-4d4f-bd54-7d12becaba7b",
   "metadata": {},
   "outputs": [],
   "source": [
    "100000/270/5"
   ]
  },
  {
   "cell_type": "code",
   "execution_count": null,
   "id": "064e5ed4-9e18-4936-b938-15232e31a8da",
   "metadata": {},
   "outputs": [],
   "source": [
    "lc = gpd.read_file(os.path.join(root,'notebooks','id_lc.geojson')).explode('geometry')"
   ]
  },
  {
   "cell_type": "code",
   "execution_count": null,
   "id": "010bc278-ed19-499e-9fae-c942069431da",
   "metadata": {},
   "outputs": [],
   "source": [
    "lc.boundary.plot()"
   ]
  },
  {
   "cell_type": "code",
   "execution_count": null,
   "id": "dcafda62-0558-4667-acdb-c0dd5ea241e5",
   "metadata": {},
   "outputs": [],
   "source": [
    "#lc.explode('geometry').apply(lambda r: r['geometry'].is_valid, axis=1)"
   ]
  },
  {
   "cell_type": "code",
   "execution_count": null,
   "id": "f0f1fb68-3a66-427f-ac3c-82203847f5e6",
   "metadata": {},
   "outputs": [],
   "source": [
    "priority =[\"builtup\", \"plantation\", \"forest\", \"barren\", \"agriculture\"]"
   ]
  },
  {
   "cell_type": "code",
   "execution_count": null,
   "id": "98456cb4-a39a-43f8-81a3-0142b3199691",
   "metadata": {},
   "outputs": [],
   "source": [
    "classes = lc.lc.unique()"
   ]
  },
  {
   "cell_type": "code",
   "execution_count": null,
   "id": "70616369-ad4f-48d7-b24d-914faf8d62cd",
   "metadata": {},
   "outputs": [],
   "source": [
    "lc.loc[lc.lc=='builtup','geometry']=lc.loc[lc.lc=='builtup'].difference(lc.loc[lc.lc=='forest'].unary_union)"
   ]
  },
  {
   "cell_type": "code",
   "execution_count": null,
   "id": "bbe1a3e4-ced0-46ec-99e9-42e4691cdad9",
   "metadata": {},
   "outputs": [],
   "source": [
    "for ii, cl1 in enumerate(priority):\n",
    "    for cl2 in priority[ii+1:]:\n",
    "        print (cl1,cl2)\n",
    "        #print (lc.loc[cl2,'geometry'].difference(lc.loc[cl1,'geometry']))\n",
    "        #_geom = lc.loc[cl2,'geometry'].difference(lc.loc[cl1,'geometry']).buffer(0)\n",
    "        #print (lc.loc[cl2,'geometry'])\n",
    "        lc.loc[lc.lc==cl2,'geometry'] = lc.loc[lc.lc==cl2].difference(lc.loc[lc.lc==cl1].unary_union)"
   ]
  },
  {
   "cell_type": "code",
   "execution_count": null,
   "id": "1dbfae45-ca78-4507-8552-8edd3848eaba",
   "metadata": {},
   "outputs": [],
   "source": [
    "lc.boundary.plot()"
   ]
  },
  {
   "cell_type": "code",
   "execution_count": null,
   "id": "34a05545-921e-4935-8c0b-ba3029f326b0",
   "metadata": {},
   "outputs": [],
   "source": [
    "classes"
   ]
  },
  {
   "cell_type": "code",
   "execution_count": null,
   "id": "e9f5aa1f-b43d-42e3-a874-39f8e9e1b0f7",
   "metadata": {},
   "outputs": [],
   "source": [
    "for col in classes:\n",
    "    gdf_vor[col+'_area'] = 0 "
   ]
  },
  {
   "cell_type": "code",
   "execution_count": null,
   "id": "33d7797f-fe8d-4309-a056-526660eb87ac",
   "metadata": {
    "tags": []
   },
   "outputs": [],
   "source": [
    "for idx, row in lc.iterrows():\n",
    "    \n",
    "    gdf_vor['intersection'] = gdf_vor.intersection(row['geometry'])\n",
    "    gdf_vor['int_area'] = gdf_vor['intersection'].apply(lambda geom: area.area(geometry.mapping(geom)))\n",
    "    gdf_vor[row['lc']+'_area'] += gdf_vor['int_area']"
   ]
  },
  {
   "cell_type": "code",
   "execution_count": null,
   "id": "8ece6c5d-0304-411a-829e-897f06d57848",
   "metadata": {},
   "outputs": [],
   "source": [
    "classes"
   ]
  },
  {
   "cell_type": "code",
   "execution_count": null,
   "id": "4b12194f-963f-4b6c-b38e-2639fb0ca384",
   "metadata": {},
   "outputs": [],
   "source": [
    "gdf_vor[[col+'_area' for col in classes]].sum(1)"
   ]
  },
  {
   "cell_type": "code",
   "execution_count": null,
   "id": "ee3031a6-62fc-4898-a045-2e41d33de866",
   "metadata": {},
   "outputs": [],
   "source": [
    "gdf_vor['sum_area'] = gdf_vor[[col+'_area' for col in classes]].sum(1)"
   ]
  },
  {
   "cell_type": "code",
   "execution_count": null,
   "id": "8492d23a-725b-417b-8795-a49c5790e9d9",
   "metadata": {},
   "outputs": [],
   "source": [
    "gdf_vor[col+'_area'] = gdf_vor[col+'_area']/gdf_vor['sum_area']*gdf_vor['area']"
   ]
  },
  {
   "cell_type": "code",
   "execution_count": null,
   "id": "ddf45729-d79d-4898-8b14-33e221ccfa0f",
   "metadata": {},
   "outputs": [],
   "source": [
    "gdf_vor = gdf_vor.drop(columns=['intersection','int_area'])"
   ]
  },
  {
   "cell_type": "code",
   "execution_count": null,
   "id": "57e2ae06-d609-4f66-a9f4-2a369d3afa12",
   "metadata": {},
   "outputs": [],
   "source": [
    "gdf_vor['lc'] = gdf_vor[[col+'_area' for col in classes]].idxmax(1)"
   ]
  },
  {
   "cell_type": "code",
   "execution_count": null,
   "id": "d1ef594f-e322-40d3-a64f-774c326d0cc5",
   "metadata": {},
   "outputs": [],
   "source": [
    "gdf_vor.plot('lc')"
   ]
  },
  {
   "cell_type": "code",
   "execution_count": null,
   "id": "721a1119-089a-4599-b045-6668242b6b01",
   "metadata": {},
   "outputs": [],
   "source": [
    "fig, ax = plt.subplots(1,1,figsize=(16,16))\n",
    "gdf_vor.boundary.plot(ax=ax, color='w',lw=1)\n",
    "gdf_vor.plot('lc', ax=ax, alpha=0.5)\n",
    "gdf_vor.dissolve('cluster').boundary.plot(ax=ax, color='#575757', lw=3)"
   ]
  },
  {
   "cell_type": "code",
   "execution_count": null,
   "id": "4ce35b78-eb2d-465f-a6d0-b186832f58eb",
   "metadata": {},
   "outputs": [],
   "source": [
    "for col in gdf_vor.columns:\n",
    "    if 'area' in col:\n",
    "        gdf_vor[col] /= 1e6"
   ]
  },
  {
   "cell_type": "code",
   "execution_count": null,
   "id": "d2adbc08-1dd4-4ec8-8d40-f7c0235c2119",
   "metadata": {},
   "outputs": [],
   "source": [
    "gdf_vor"
   ]
  },
  {
   "cell_type": "code",
   "execution_count": null,
   "id": "ac265231-fb9e-4cf7-a9c5-0fd088553d81",
   "metadata": {},
   "outputs": [],
   "source": [
    "gdf_vor = gdf_vor.drop(columns=['index_right','lc','area']).rename(columns={'sum_area':'area','vor_geom':'geometry'})"
   ]
  },
  {
   "cell_type": "code",
   "execution_count": null,
   "id": "aab68be0-bff0-4d73-b1dc-a2ed5d679362",
   "metadata": {},
   "outputs": [],
   "source": [
    "gdf_vor['node_id'] = gdf['cluster'].map({0:'NODE_A',1:'NODE_B'})"
   ]
  },
  {
   "cell_type": "code",
   "execution_count": null,
   "id": "7e76d9f7-e2bc-45be-aa1a-32c922eae6de",
   "metadata": {},
   "outputs": [],
   "source": [
    "gdf_vor['solar_irradiance'] = 800+(1400-800)*(gdf_vor.geometry.centroid.y - gdf_vor.geometry.centroid.y.min())/(gdf_vor.geometry.centroid.y.max()-gdf_vor.geometry.centroid.y.min())"
   ]
  },
  {
   "cell_type": "code",
   "execution_count": null,
   "id": "6ae52b3d-2965-458c-a5c0-a1690e1a6de4",
   "metadata": {},
   "outputs": [],
   "source": [
    "gdf_vor['population'] = gdf_vor['builtup_area']*1210"
   ]
  },
  {
   "cell_type": "code",
   "execution_count": null,
   "id": "0b033c14-207d-4215-ace0-c8f1933e612f",
   "metadata": {},
   "outputs": [],
   "source": [
    "gdf_vor"
   ]
  },
  {
   "cell_type": "code",
   "execution_count": null,
   "id": "59df58e6-dbf9-4a06-a70d-a7cf3b4c6225",
   "metadata": {},
   "outputs": [],
   "source": [
    "gdf_vor.set_geometry('geometry')"
   ]
  },
  {
   "cell_type": "code",
   "execution_count": null,
   "id": "9f299bc5-35fb-47c9-a949-82d652ec0f2a",
   "metadata": {},
   "outputs": [],
   "source": [
    "gdf_vor.drop(columns=['cluster']).set_geometry('geometry').to_file(os.path.join(root,'gridland_2node.geojson'), driver='GeoJSON')"
   ]
  },
  {
   "cell_type": "code",
   "execution_count": null,
   "id": "071578d6-8e3b-4694-bbd0-09bbe0e43d19",
   "metadata": {},
   "outputs": [],
   "source": [
    "a = list(range(3,6))"
   ]
  },
  {
   "cell_type": "code",
   "execution_count": null,
   "id": "f0e05365-a8c9-493b-86f5-e2039c33c69c",
   "metadata": {},
   "outputs": [],
   "source": [
    "a[::-1]"
   ]
  },
  {
   "cell_type": "markdown",
   "id": "8bd0651c-23bc-4fa7-ba45-59134850d0a5",
   "metadata": {},
   "source": [
    "- carbon constraint\n",
    "- final energy demand\n",
    "- final energy efficiency\n",
    "- population growth\n",
    "- ag growth\n",
    "- plantation growth\n",
    "- pop density\n",
    "- Coal price\n",
    "- Technologies:\n",
    "  - Generation\n",
    "    - utility solar {construction period, cost, }\n",
    "    - distributed solar {construction period, cost, land_cost}\n",
    "    - coal\n",
    "  - Transmission\n",
    "    - BIG\n",
    "    - SMALL\n",
    "    - local {loss per km}"
   ]
  },
  {
   "cell_type": "code",
   "execution_count": null,
   "id": "8e9be8d5-5435-47c7-acc4-2866a1caba02",
   "metadata": {},
   "outputs": [],
   "source": [
    "from shapely import geometry"
   ]
  },
  {
   "cell_type": "code",
   "execution_count": null,
   "id": "4a1c2762-20a7-4364-ae22-cf85df3e4a86",
   "metadata": {},
   "outputs": [],
   "source": [
    "from shapely.geometry import Polygon\n",
    "from shapely.affinity import translate\n",
    "import math\n",
    "from collections import namedtuple\n",
    "\n",
    "\n",
    "Hexagons = namedtuple(\n",
    "    \"Hexagons\",\n",
    "    [\"centre\", \"top\", \"topright\", \"bottomright\", \"bottom\", \"bottomleft\", \"topleft\"],\n",
    ")\n",
    "\n",
    "\n",
    "def _flat_hex_coords(centre, size, i):\n",
    "    \"\"\"Return the point coordinate of a flat-topped regular hexagon.\n",
    "    points are returned in counter-clockwise order as i increases\n",
    "    the first coordinate (i=0) will be:\n",
    "    centre.x + size, centre.y\n",
    "    \"\"\"\n",
    "    angle_deg = 60 * i\n",
    "    angle_rad = math.pi / 180 * angle_deg\n",
    "    return (\n",
    "        centre.x + size * math.cos(angle_rad),\n",
    "        centre.y + size * math.sin(angle_rad),\n",
    "    )\n",
    "\n",
    "\n",
    "def _flat_hex_polygon(centre, size):\n",
    "    \"\"\"Return a flat-topped regular hexagonal Polygon, given a centroid Point and side length\"\"\"\n",
    "    return Polygon([_flat_hex_coords(centre, size, i) for i in range(6)])\n",
    "\n",
    "\n",
    "def hexagon_coverage(centre, size):\n",
    "    \"\"\"Tile an area having a Shapely Point centroid _centre_ with regular flat-topped\n",
    "    hexagonal polygons having side-length _size_.\n",
    "    The returned namedtuple has seven entries:\n",
    "    0 is the central polygon, 1 - 6 are surrounding polygons, beginning directly\n",
    "    above 0, progressing clockwise.\n",
    "    \"\"\"\n",
    "    cp = _flat_hex_polygon(centre, size)\n",
    "    width = 2 * size\n",
    "    height = math.sqrt(3) * size\n",
    "    horizontal_distance = width * 0.75\n",
    "    vertical_distance = height * 0.5\n",
    "    # second hex is directly above central_polygon, progresses clockwise\n",
    "    return Hexagons(\n",
    "        cp,\n",
    "        translate(cp, 0, vertical_distance * 2),\n",
    "        translate(cp, horizontal_distance, vertical_distance),\n",
    "        translate(cp, horizontal_distance, -vertical_distance),\n",
    "        translate(cp, 0, vertical_distance * -2),\n",
    "        translate(cp, -horizontal_distance, vertical_distance),\n",
    "        translate(cp, -horizontal_distance, -vertical_distance),\n",
    "    )\n"
   ]
  },
  {
   "cell_type": "code",
   "execution_count": null,
   "id": "ed035ba6-108f-402b-b884-8a6241fece1f",
   "metadata": {},
   "outputs": [],
   "source": []
  },
  {
   "cell_type": "code",
   "execution_count": null,
   "id": "0d5bb90f-78aa-44a2-9878-99203d2de48a",
   "metadata": {},
   "outputs": [],
   "source": []
  }
 ],
 "metadata": {
  "kernelspec": {
   "display_name": "Python (gridlandia)",
   "language": "python",
   "name": "gridlandia"
  },
  "language_info": {
   "codemirror_mode": {
    "name": "ipython",
    "version": 3
   },
   "file_extension": ".py",
   "mimetype": "text/x-python",
   "name": "python",
   "nbconvert_exporter": "python",
   "pygments_lexer": "ipython3",
   "version": "3.8.13"
  }
 },
 "nbformat": 4,
 "nbformat_minor": 5
}
