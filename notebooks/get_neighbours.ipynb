{
 "cells": [
  {
   "cell_type": "code",
   "execution_count": 16,
   "id": "545e9dc5-bd07-48d0-9be8-407a52c870e0",
   "metadata": {},
   "outputs": [],
   "source": [
    "from shapely import geometry\n",
    "import geopandas as gpd\n",
    "from geojson import Feature\n",
    "import matplotlib.pyplot as plt"
   ]
  },
  {
   "cell_type": "code",
   "execution_count": 2,
   "id": "ccabaa00-7a44-4104-9ba8-d17e5e474611",
   "metadata": {},
   "outputs": [],
   "source": [
    "p1 = geometry.Polygon([[0,0],[1,0],[1,1],[0,1]])\n",
    "p2 = geometry.Polygon([[0,1],[1,1],[1,2],[0,2]])\n",
    "p3 = geometry.Polygon([[1,1.25],[1,2],[2,2],[2,1.25]])\n",
    "p4 = geometry.Polygon([[1.5,0],[1.5,1],[2,1],[2,0]])"
   ]
  },
  {
   "cell_type": "code",
   "execution_count": 3,
   "id": "394180ef-0399-4738-b78d-f2bbec0bbf19",
   "metadata": {},
   "outputs": [],
   "source": [
    "f1 = Feature(geometry=p1, properties={'A1':5,'A2':2,'node':'foo','id':'p1'})\n",
    "f2 = Feature(geometry=p2, properties={'A1':1,'A2':2,'node':'foo','id':'p2'})\n",
    "f3 = Feature(geometry=p3, properties={'A1':7,'A2':2,'node':'foo','id':'p3'})\n",
    "f4 = Feature(geometry=p4, properties={'A1':2,'A2':2,'node':'bar','id':'p4'})"
   ]
  },
  {
   "cell_type": "code",
   "execution_count": 4,
   "id": "2d5294a8-e787-4639-8e14-452a7db1210f",
   "metadata": {},
   "outputs": [],
   "source": [
    "gdf = gpd.GeoDataFrame.from_features([f1,f2,f3,f4]).set_index('id')"
   ]
  },
  {
   "cell_type": "code",
   "execution_count": 9,
   "id": "73dbfa96-e44f-432c-839d-94ed4cc340d0",
   "metadata": {},
   "outputs": [
    {
     "data": {
      "text/plain": [
       "<AxesSubplot:>"
      ]
     },
     "execution_count": 9,
     "metadata": {},
     "output_type": "execute_result"
    },
    {
     "data": {
      "image/png": "[encoded data removed]",
      "text/plain": [
       "<Figure size 432x288 with 1 Axes>"
      ]
     },
     "metadata": {
      "needs_background": "light"
     },
     "output_type": "display_data"
    }
   ],
   "source": [
    "gdf.boundary.plot()"
   ]
  },
  {
   "cell_type": "markdown",
   "id": "a1895740-6c8c-4b57-8c27-17347fa94fef",
   "metadata": {},
   "source": [
    "# A Simple 'get neighbours' example\n",
    "How to get the neighbouring polygons?"
   ]
  },
  {
   "cell_type": "code",
   "execution_count": 5,
   "id": "bd528dea-761c-4c1d-8ad3-fc875df4222a",
   "metadata": {},
   "outputs": [
    {
     "data": {
      "text/plain": [
       "[('p2', 'p1'), ('p1', 'p2'), ('p3', 'p2'), ('p2', 'p3')]"
      ]
     },
     "execution_count": 5,
     "metadata": {},
     "output_type": "execute_result"
    }
   ],
   "source": [
    "[tuple(e) for e in gpd.sjoin(gdf,gdf).reset_index()[['id','index_right']].values.tolist() if e[0]!=e[1]]"
   ]
  },
  {
   "cell_type": "code",
   "execution_count": 7,
   "id": "4317020c-5148-4cab-8068-6a3f011c5784",
   "metadata": {},
   "outputs": [
    {
     "data": {
      "text/html": [
       "<div>\n",
       "<style scoped>\n",
       "    .dataframe tbody tr th:only-of-type {\n",
       "        vertical-align: middle;\n",
       "    }\n",
       "\n",
       "    .dataframe tbody tr th {\n",
       "        vertical-align: top;\n",
       "    }\n",
       "\n",
       "    .dataframe thead th {\n",
       "        text-align: right;\n",
       "    }\n",
       "</style>\n",
       "<table border=\"1\" class=\"dataframe\">\n",
       "  <thead>\n",
       "    <tr style=\"text-align: right;\">\n",
       "      <th></th>\n",
       "      <th>geometry</th>\n",
       "      <th>A1</th>\n",
       "      <th>A2</th>\n",
       "    </tr>\n",
       "    <tr>\n",
       "      <th>node</th>\n",
       "      <th></th>\n",
       "      <th></th>\n",
       "      <th></th>\n",
       "    </tr>\n",
       "  </thead>\n",
       "  <tbody>\n",
       "    <tr>\n",
       "      <th>bar</th>\n",
       "      <td>POLYGON ((1.50000 0.00000, 1.50000 1.00000, 2....</td>\n",
       "      <td>2</td>\n",
       "      <td>2</td>\n",
       "    </tr>\n",
       "    <tr>\n",
       "      <th>foo</th>\n",
       "      <td>POLYGON ((1.00000 0.00000, 0.00000 0.00000, 0....</td>\n",
       "      <td>5</td>\n",
       "      <td>2</td>\n",
       "    </tr>\n",
       "  </tbody>\n",
       "</table>\n",
       "</div>"
      ],
      "text/plain": [
       "                                               geometry  A1  A2\n",
       "node                                                           \n",
       "bar   POLYGON ((1.50000 0.00000, 1.50000 1.00000, 2....   2   2\n",
       "foo   POLYGON ((1.00000 0.00000, 0.00000 0.00000, 0....   5   2"
      ]
     },
     "execution_count": 7,
     "metadata": {},
     "output_type": "execute_result"
    }
   ],
   "source": [
    "gdf.dissolve('node')"
   ]
  },
  {
   "cell_type": "markdown",
   "id": "41f4dcb9-afed-468c-9449-e0b5d9257ba9",
   "metadata": {},
   "source": [
    "# An Advanced application: Flow Capacity between neighbours\n",
    "\n",
    "Assume: Both polygon and line dataframes are large, so cannot fit into memory"
   ]
  },
  {
   "cell_type": "code",
   "execution_count": 26,
   "id": "da09a217-5f07-407c-8d46-cb5ddb50d246",
   "metadata": {},
   "outputs": [],
   "source": [
    "ls0 = geometry.LineString([[0.1,0.25],[0.25,0.1]])\n",
    "ls1 = geometry.LineString([[0.5,0.5],[0.5,1.5]])\n",
    "ls2 = geometry.LineString([[1.5,1.5],[0.6,1.5],[0.6,0.5]])\n",
    "ls3 = geometry.LineString([[0.65,1.5],[1.7,0.5]])\n",
    "ls4 = geometry.LineString([[1.7,1.7],[1.7,0.5]])\n",
    "\n",
    "fls0 = Feature(geometry=ls0, properties={'capacity':10})\n",
    "fls1 = Feature(geometry=ls1, properties={'capacity':5})\n",
    "fls2 = Feature(geometry=ls2, properties={'capacity':2})\n",
    "fls3 = Feature(geometry=ls3, properties={'capacity':3})\n",
    "fls4 = Feature(geometry=ls4, properties={'capacity':7})"
   ]
  },
  {
   "cell_type": "code",
   "execution_count": 28,
   "id": "e915b440-b764-495e-9cf0-195e91da0b3e",
   "metadata": {},
   "outputs": [],
   "source": [
    "gdf_line = gpd.GeoDataFrame.from_features([fls0,fls1,fls2,fls3,fls4])"
   ]
  },
  {
   "cell_type": "code",
   "execution_count": 29,
   "id": "29400cfd-6b46-4eff-bc4e-a4bb96e86b4d",
   "metadata": {},
   "outputs": [
    {
     "data": {
      "text/plain": [
       "<AxesSubplot:>"
      ]
     },
     "execution_count": 29,
     "metadata": {},
     "output_type": "execute_result"
    },
    {
     "data": {
      "image/png": "[encoded data removed]",
      "text/plain": [
       "<Figure size 432x432 with 1 Axes>"
      ]
     },
     "metadata": {
      "needs_background": "light"
     },
     "output_type": "display_data"
    }
   ],
   "source": [
    "fig, ax = plt.subplots(1,1,figsize=(6,6))\n",
    "gdf_line.plot(color='g', ax=ax)\n",
    "gdf.boundary.plot(ax=ax)"
   ]
  },
  {
   "cell_type": "code",
   "execution_count": 54,
   "id": "5660bcb2-8e35-41aa-9d08-3207d5246129",
   "metadata": {},
   "outputs": [],
   "source": [
    "from itertools import groupby"
   ]
  },
  {
   "cell_type": "code",
   "execution_count": 83,
   "id": "74a3da32-9e20-491d-9632-dca8142a6a72",
   "metadata": {},
   "outputs": [],
   "source": [
    "def group2neighbours(group_df, group_idx, princip):\n",
    "    ll= group_df['index_right'].values.tolist()\n",
    "    # remove duplicates\n",
    "    ll = [key for key, _ in groupby(ll)]\n",
    "    ii = ll.index(princip)\n",
    "    neighbours = ll[max(ii-1,0):ii+2]\n",
    "    # sort to make sure the order is unique\n",
    "    return [tuple([group_idx]+sorted([n_0, n_1])) for n_0, n_1 in list(zip(neighbours[:-1],neighbours[1:]))]"
   ]
  },
  {
   "cell_type": "code",
   "execution_count": 84,
   "id": "c8569d0e-7ef0-4b2b-b84c-ab8e6570ec53",
   "metadata": {},
   "outputs": [],
   "source": [
    "# for each polygon boundary, get intersecting lines..\n",
    "\n",
    "# undirected graph\n",
    "all_edges = {}\n",
    "\n",
    "# iterate rather than explode a big spatial join because this would be e.g. a db query in the future\n",
    "for idx, row in gdf.iterrows():\n",
    "    geom = row['geometry']\n",
    "\n",
    "\n",
    "    # get the intersecting lines\n",
    "    # then cast those lines to multipoint and get the multipoint intersections with the polygons\n",
    "    # ... same here re: a db query\n",
    "    sj_gdf = gpd.sjoin(gdf_line.loc[gdf_line.intersects(geom.exterior)].set_geometry('mp'),gdf)\n",
    "\n",
    "    # get all edges\n",
    "\n",
    "    for group_idx, group_df in sj_gdf.reset_index().groupby('index'):\n",
    "        # reduce each to a unique ordered list\n",
    "        new_edges = group2neighbours(group_df, group_idx, idx)\n",
    "        for e in new_edges:\n",
    "            if e not in all_edges:\n",
    "                all_edges[e] = group_df.iloc[0]['capacity']"
   ]
  },
  {
   "cell_type": "code",
   "execution_count": 85,
   "id": "6c413ebe-f652-4b00-93f0-acb2a50ff6f5",
   "metadata": {},
   "outputs": [],
   "source": [
    "# now for all_edges, sum pair relationship\n",
    "\n",
    "# get unique edge pairs first\n",
    "\n",
    "unique_pairs = list(set([tuple([e[1],e[2]]) for e in all_edges.keys()]))\n",
    "\n",
    "sum_edges = {}\n",
    "for e in unique_pairs:\n",
    "    sum_edges[e] = sum([v for k,v in all_edges.items() if k[1]==e[0] and k[2]==e[1]])"
   ]
  },
  {
   "cell_type": "code",
   "execution_count": 86,
   "id": "479d535a-dd1b-4672-8bad-00d9d9be10db",
   "metadata": {},
   "outputs": [
    {
     "data": {
      "text/plain": [
       "{('p3', 'p4'): 7, ('p2', 'p4'): 3, ('p2', 'p3'): 2, ('p1', 'p2'): 7}"
      ]
     },
     "execution_count": 86,
     "metadata": {},
     "output_type": "execute_result"
    }
   ],
   "source": [
    "sum_edges"
   ]
  },
  {
   "cell_type": "code",
   "execution_count": null,
   "id": "f4d1e65b-febc-4d11-84db-92e65ed4f66b",
   "metadata": {},
   "outputs": [],
   "source": []
  }
 ],
 "metadata": {
  "kernelspec": {
   "display_name": "Python (gridlandia)",
   "language": "python",
   "name": "gridlandia"
  },
  "language_info": {
   "codemirror_mode": {
    "name": "ipython",
    "version": 3
   },
   "file_extension": ".py",
   "mimetype": "text/x-python",
   "name": "python",
   "nbconvert_exporter": "python",
   "pygments_lexer": "ipython3",
   "version": "3.8.13"
  }
 },
 "nbformat": 4,
 "nbformat_minor": 5
}
