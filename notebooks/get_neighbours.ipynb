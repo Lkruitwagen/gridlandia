{
 "cells": [
  {
   "cell_type": "code",
   "execution_count": null,
   "id": "545e9dc5-bd07-48d0-9be8-407a52c870e0",
   "metadata": {},
   "outputs": [],
   "source": [
    "from shapely import geometry\n",
    "import geopandas as gpd\n",
    "from geojson import Feature"
   ]
  },
  {
   "cell_type": "code",
   "execution_count": null,
   "id": "ccabaa00-7a44-4104-9ba8-d17e5e474611",
   "metadata": {},
   "outputs": [],
   "source": [
    "p1 = geometry.Polygon([[0,0],[1,0],[1,1],[0,1]])\n",
    "p2 = geometry.Polygon([[0,1],[1,1],[1,2],[0,2]])\n",
    "p3 = geometry.Polygon([[1,1.25],[1,2],[2,2],[2,1.25]])\n",
    "p4 = geometry.Polygon([[1.5,0],[1.5,1],[2,1],[2,0]])"
   ]
  },
  {
   "cell_type": "code",
   "execution_count": null,
   "id": "394180ef-0399-4738-b78d-f2bbec0bbf19",
   "metadata": {},
   "outputs": [],
   "source": [
    "f1 = Feature(geometry=p1, properties={'A1':5,'A2':2,'node':'foo','id':'p1'})\n",
    "f2 = Feature(geometry=p2, properties={'A1':1,'A2':2,'node':'foo','id':'p2'})\n",
    "f3 = Feature(geometry=p3, properties={'A1':7,'A2':2,'node':'foo','id':'p3'})\n",
    "f4 = Feature(geometry=p4, properties={'A1':2,'A2':2,'node':'bar','id':'p4'})"
   ]
  },
  {
   "cell_type": "code",
   "execution_count": null,
   "id": "2d5294a8-e787-4639-8e14-452a7db1210f",
   "metadata": {},
   "outputs": [],
   "source": [
    "gdf = gpd.GeoDataFrame.from_features([f1,f2,f3,f4]).set_index('id')"
   ]
  },
  {
   "cell_type": "code",
   "execution_count": null,
   "id": "bd528dea-761c-4c1d-8ad3-fc875df4222a",
   "metadata": {},
   "outputs": [],
   "source": [
    "[tuple(e) for e in gpd.sjoin(gdf,gdf).reset_index()[['id','index_right']].values.tolist() if e[0]!=e[1]]"
   ]
  },
  {
   "cell_type": "code",
   "execution_count": null,
   "id": "4317020c-5148-4cab-8068-6a3f011c5784",
   "metadata": {},
   "outputs": [],
   "source": [
    "gdf.dissolve('node', aggfunc='')"
   ]
  },
  {
   "cell_type": "code",
   "execution_count": null,
   "id": "3e115576-76fd-432a-80d2-948b4f77de70",
   "metadata": {},
   "outputs": [],
   "source": [
    "a= {'d':'4'}\n",
    "a.update({'c':'7'})"
   ]
  },
  {
   "cell_type": "code",
   "execution_count": null,
   "id": "55121319-de90-437d-82ac-048f56d81a7c",
   "metadata": {},
   "outputs": [],
   "source": [
    "for idx, row in gdf.iterrows():\n",
    "    print (idx, row[[col for col in row.index if 'A' in col]].to_dict())"
   ]
  },
  {
   "cell_type": "code",
   "execution_count": null,
   "id": "54d12d31-8ee6-4d82-83d7-06c67eb09e2b",
   "metadata": {},
   "outputs": [],
   "source": [
    "gpd.sjoin(gdf,gdf).reset_index()[['id','index_right']]"
   ]
  },
  {
   "cell_type": "code",
   "execution_count": null,
   "id": "a2936991-36dd-4189-a134-01ec7fcb369d",
   "metadata": {},
   "outputs": [],
   "source": [
    "tuple(sorted(e))"
   ]
  },
  {
   "cell_type": "code",
   "execution_count": null,
   "id": "f71262ca-9da7-4a8f-ac8e-c8e45f124808",
   "metadata": {},
   "outputs": [],
   "source": [
    "edges = set()\n",
    "for e in gpd.sjoin(gdf,gdf).reset_index()[['id','index_right']].values.tolist():\n",
    "    if e[0]!=e[1] and tuple(sorted(e)) not in edges:\n",
    "        edges.add(tuple(sorted(e)))"
   ]
  },
  {
   "cell_type": "code",
   "execution_count": null,
   "id": "355c9a62-1939-421c-bf20-b41c87139fd5",
   "metadata": {},
   "outputs": [],
   "source": [
    "edges"
   ]
  },
  {
   "cell_type": "code",
   "execution_count": null,
   "id": "f29e54a2-9663-4302-8acd-8184116870ed",
   "metadata": {},
   "outputs": [],
   "source": [
    "import os"
   ]
  },
  {
   "cell_type": "code",
   "execution_count": null,
   "id": "feba1e10-043d-405e-88d0-173c0c683b13",
   "metadata": {},
   "outputs": [],
   "source": [
    "gpd.read_file('./demo_hexes.gpkg')"
   ]
  },
  {
   "cell_type": "code",
   "execution_count": null,
   "id": "a4dab319-4aca-42b4-a0a7-346f37c1462d",
   "metadata": {},
   "outputs": [],
   "source": [
    "os.getcwd()"
   ]
  },
  {
   "cell_type": "code",
   "execution_count": null,
   "id": "b747447f-f1ec-485d-8c68-452d34ffc580",
   "metadata": {},
   "outputs": [],
   "source": []
  }
 ],
 "metadata": {
  "kernelspec": {
   "display_name": "Python (gridlandia)",
   "language": "python",
   "name": "gridlandia"
  },
  "language_info": {
   "codemirror_mode": {
    "name": "ipython",
    "version": 3
   },
   "file_extension": ".py",
   "mimetype": "text/x-python",
   "name": "python",
   "nbconvert_exporter": "python",
   "pygments_lexer": "ipython3",
   "version": "3.8.13"
  }
 },
 "nbformat": 4,
 "nbformat_minor": 5
}
