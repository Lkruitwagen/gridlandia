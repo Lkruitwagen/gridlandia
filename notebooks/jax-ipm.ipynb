{
 "cells": [
  {
   "cell_type": "markdown",
   "id": "de1a7e7e-ce0a-42b7-a3b2-f62cea8549a6",
   "metadata": {},
   "source": [
    "# JAX Interior Point Method"
   ]
  },
  {
   "cell_type": "markdown",
   "id": "20b55b39-27a7-4bc0-a312-302ef32f430b",
   "metadata": {},
   "source": [
    "This notebook begins to build an interior point method using Jax.\n",
    "\n",
    "Jax makes gradient calculation easy and enables us to use hardware acceleration (GPU) for our IPM algorithm.\n",
    "\n",
    "Let's start with a very simple linear programme and use JAX to solve it using IPM."
   ]
  },
  {
   "cell_type": "markdown",
   "id": "8ac38312-e07c-4b95-9185-7e561a72a32b",
   "metadata": {},
   "source": [
    "### Simplest example\n",
    "\n",
    "    max x_1 + x_2\n",
    "    s.t.\n",
    "        2 * p * x_1 + x_2 <= p^2 + 1\n",
    "    for all p in range(0,1,0.1)"
   ]
  },
  {
   "cell_type": "markdown",
   "id": "319dff62-d460-4ca6-a0f1-1b80e2c07680",
   "metadata": {},
   "source": [
    "<img src=\"https://upload.wikimedia.org/wikipedia/commons/thumb/e/e2/Karmarkar.svg/400px-Karmarkar.svg.png\">"
   ]
  },
  {
   "cell_type": "markdown",
   "id": "7b475226-0b13-485d-b430-c46010810af0",
   "metadata": {},
   "source": [
    "Solve with scipy first in the form:\n",
    "  \n",
    "    minimize c @ x\n",
    "    s.t.\n",
    "        A_ub @ x <= b_ub \n",
    "        A_eq @ x == b_eq\n",
    "        lb <= x <= ub"
   ]
  },
  {
   "cell_type": "markdown",
   "id": "ff47919a-b6d5-424d-8099-3a68b7fb26fc",
   "metadata": {},
   "source": [
    "### Start with Scipy and np"
   ]
  },
  {
   "cell_type": "code",
   "execution_count": 1,
   "id": "cd9c380d-1569-43a5-b144-974a21188bfd",
   "metadata": {},
   "outputs": [],
   "source": [
    "import numpy as np\n",
    "from scipy.optimize import linprog"
   ]
  },
  {
   "cell_type": "code",
   "execution_count": 2,
   "id": "d6c3661a-e4fc-43ee-8ccd-4842d242b9d7",
   "metadata": {},
   "outputs": [],
   "source": [
    "b_ub = np.arange(0,1.,0.1)**2+1"
   ]
  },
  {
   "cell_type": "code",
   "execution_count": 3,
   "id": "8bdc6a09-8952-49d0-aa08-f556516179ca",
   "metadata": {},
   "outputs": [],
   "source": [
    "A_ub = np.stack([np.array([2.*p,1.]) for p in np.arange(0,1,0.1)])"
   ]
  },
  {
   "cell_type": "code",
   "execution_count": 4,
   "id": "e7afbe5c-b475-4953-a534-5b75b3b77cd8",
   "metadata": {},
   "outputs": [],
   "source": [
    "c = np.array([-1.,-1.])"
   ]
  },
  {
   "cell_type": "code",
   "execution_count": 5,
   "id": "bea66a23-46e6-4f1a-9c3e-e418b9bea9c2",
   "metadata": {},
   "outputs": [
    {
     "data": {
      "text/plain": [
       "((10, 2), (10,), (2,))"
      ]
     },
     "execution_count": 5,
     "metadata": {},
     "output_type": "execute_result"
    }
   ],
   "source": [
    "A_ub.shape, b_ub.shape, c.shape"
   ]
  },
  {
   "cell_type": "code",
   "execution_count": 6,
   "id": "7fe4ec4a-8893-44c2-9aa5-4c9643de45bc",
   "metadata": {},
   "outputs": [],
   "source": [
    "r = linprog(\n",
    "    c, \n",
    "    A_ub=A_ub, \n",
    "    b_ub=b_ub, \n",
    "    A_eq=None, \n",
    "    b_eq=None, \n",
    "    bounds=None\n",
    ")"
   ]
  },
  {
   "cell_type": "code",
   "execution_count": 7,
   "id": "e57aff94-f82e-45fa-b108-b94c4d4d51b2",
   "metadata": {},
   "outputs": [
    {
     "data": {
      "text/plain": [
       "array([0.50092546, 0.74907454])"
      ]
     },
     "execution_count": 7,
     "metadata": {},
     "output_type": "execute_result"
    }
   ],
   "source": [
    "r.x"
   ]
  },
  {
   "cell_type": "markdown",
   "id": "dc9a50e3-631c-4f68-8fb9-d6338f2865e0",
   "metadata": {},
   "source": [
    "### Let's try with Jax!"
   ]
  },
  {
   "cell_type": "code",
   "execution_count": 8,
   "id": "c01d3d73-2078-4f9b-b8ae-7d957908f7cb",
   "metadata": {},
   "outputs": [],
   "source": [
    "import jax.numpy as jnp\n",
    "from jax import grad, jit, vmap\n",
    "from jax import jacfwd, jacrev\n",
    "from jax import random"
   ]
  },
  {
   "cell_type": "code",
   "execution_count": 685,
   "id": "bc374fbf-bb07-41a4-bdcb-42b2f84e799c",
   "metadata": {},
   "outputs": [],
   "source": [
    "def view_jax(arr):\n",
    "    return [f'{val:.4f}' for val in np.array(arr).tolist()]"
   ]
  },
  {
   "cell_type": "markdown",
   "id": "8aeee9aa-c9dd-466d-9f7a-98402fb6f98a",
   "metadata": {},
   "source": [
    "**try based on blog post**"
   ]
  },
  {
   "cell_type": "markdown",
   "id": "ff23fe69-c7ae-46b2-875e-71ac90860287",
   "metadata": {},
   "source": [
    "https://towardsdatascience.com/how-to-solve-constrained-optimization-problem-the-interior-point-methods-1733095f9eb5#:~:text=Interior%20Point%20Methods%20typically%20solve,constraints%20into%20the%20objective%20function."
   ]
  },
  {
   "cell_type": "markdown",
   "id": "dbd92b18-c56a-41d7-b6a1-196ca74df426",
   "metadata": {},
   "source": [
    "No dual vars, double loop"
   ]
  },
  {
   "cell_type": "code",
   "execution_count": 999,
   "id": "875aba07-f372-4d63-adf5-6af99f6a363c",
   "metadata": {},
   "outputs": [],
   "source": [
    "def hessian(f):\n",
    "    return jacfwd(grad(f))\n",
    "\n",
    "def f(x):\n",
    "    \"\"\" the function to be actually minimised\"\"\"\n",
    "    return -jnp.sum(x)\n",
    "\n",
    "def C(x):\n",
    "    \"\"\" the constraint function\"\"\"\n",
    "    constraints = [(x[0]*p*2+x[1]-p**2-1) for p in jnp.arange(0.,1.,0.1)] # h(x) <= 0\n",
    "    lowerbounds = [-x[0],-x[1]]   # -x<=0\n",
    "    return jnp.array(constraints+lowerbounds)\n",
    "\n",
    "def b_f(x):\n",
    "    \"\"\"barrier function\"\"\"\n",
    "    return -1*jnp.sum(jnp.log(-1*C(x)))\n",
    "\n",
    "def new_f(x):\n",
    "    \"\"\" new optimisation probelm\"\"\"\n",
    "    return f(x) + 1/t * b_f(x)\n",
    "    \n",
    "g = grad(new_f)\n",
    "H = hessian(new_f)"
   ]
  },
  {
   "cell_type": "code",
   "execution_count": 1000,
   "id": "7d9a7675-bfec-4e6d-9628-777da6821f3a",
   "metadata": {},
   "outputs": [],
   "source": [
    "STOP = 1e-4\n",
    "nu = 0.01\n",
    "alpha=0.1"
   ]
  },
  {
   "cell_type": "code",
   "execution_count": 1001,
   "id": "7793be46-ca61-42b2-b05b-ae6b85227b01",
   "metadata": {},
   "outputs": [],
   "source": [
    "x = np.array([0.1,0.1])\n",
    "m = C(x).shape[0]"
   ]
  },
  {
   "cell_type": "code",
   "execution_count": 1002,
   "id": "0f897335-22d4-4d22-bc8d-5aa051cdea38",
   "metadata": {},
   "outputs": [],
   "source": [
    "d = jnp.dot(jnp.linalg.inv(H(x)),g(x))"
   ]
  },
  {
   "cell_type": "code",
   "execution_count": 1004,
   "id": "8c259665-7ea5-4eee-9852-efdd369fe656",
   "metadata": {
    "tags": []
   },
   "outputs": [
    {
     "name": "stdout",
     "output_type": "stream",
     "text": [
      "x [0.13099827 0.11232484] d 0.033358566\n",
      "x [0.14181115 0.11283486] d 0.010824897\n",
      "x [0.14263146 0.11275884] d 0.00082382595\n",
      "x [0.1426355 0.1127585] d 4.05462e-06\n",
      "BIG STEP: t=1.7692307692307692, gap=6.782608695652174\n",
      "x [0.15506944 0.1204069 ] d 0.0145979775\n",
      "x [0.1559278  0.12076709] d 0.00093087263\n",
      "x [0.15593144 0.12076751] d 3.6560693e-06\n",
      "BIG STEP: t=3.130177514792899, gap=3.833648393194707\n",
      "x [0.18103863 0.13557851] d 0.029150248\n",
      "x [0.18405262 0.1366889 ] d 0.003212024\n",
      "x [0.18408681 0.13668975] d 3.421048e-05\n",
      "BIG STEP: t=5.538006372325898, gap=2.1668447439796172\n",
      "x [0.23949856 0.16674739] d 0.06303906\n",
      "x [0.24902476 0.1692265 ] d 0.009843507\n",
      "x [0.24919735 0.16918091] d 0.00017849896\n",
      "x [0.24919741 0.16918093] d 5.663981e-08\n",
      "BIG STEP: t=9.798011274115051, gap=1.2247383335536965\n",
      "x [0.3794825 0.2294248] d 0.14353928\n",
      "x [0.38330305 0.22713785] d 0.004452702\n",
      "x [0.38330126 0.22714634] d 8.682975e-06\n",
      "BIG STEP: t=17.33494302343432, gap=0.6922434059216547\n",
      "x [0.5998059 0.3220954] d 0.23640977\n",
      "x [0.54197204 0.31433707] d 0.05835193\n",
      "x [0.5234137 0.3148545] d 0.018565536\n",
      "x [0.5224787  0.31482407] d 0.00093552825\n",
      "x [0.52247643 0.31482396] d 2.2904812e-06\n",
      "BIG STEP: t=30.669514579922257, gap=0.3912680120426744\n",
      "x [0.6520759  0.46427155] d 0.19781454\n",
      "x [0.6222537 0.4388204] d 0.03920614\n",
      "x [0.5811793  0.44426176] d 0.041433234\n",
      "x [0.5662683  0.44857758] d 0.015523047\n",
      "x [0.5652887 0.448858 ] d 0.0010189449\n",
      "x [0.56528515 0.4488589 ] d 3.6769175e-06\n",
      "BIG STEP: t=54.26144887217014, gap=0.2211514850675986\n",
      "x [0.5648888  0.64631057] d 0.1974521\n",
      "x [0.5654362  0.61500967] d 0.03130569\n",
      "x [0.55906737 0.58985   ] d 0.025953263\n",
      "x [0.5510755 0.5817948] d 0.011347041\n",
      "x [0.54898375 0.58135283] d 0.0021379662\n",
      "x [0.5489244  0.58135957] d 5.976566e-05\n",
      "BIG STEP: t=96.00102492768563, gap=0.12499866547299052\n",
      "x [0.51817626 0.73056227] d 0.15233809\n",
      "x [0.5096614 0.7376063] d 0.011050858\n",
      "x [0.509158  0.7346516] d 0.0029972452\n",
      "x [0.5127878 0.7233395] d 0.011880233\n",
      "x [0.519115   0.70347184] d 0.020850826\n",
      "x [0.5252544 0.6815045] d 0.022809178\n",
      "x [0.52815855 0.6691591 ] d 0.012682341\n",
      "x [0.5285713 0.6669355] d 0.0022615797\n",
      "x [0.5285782 0.6668795] d 5.6447694e-05\n",
      "BIG STEP: t=169.8479671797515, gap=0.07065141961516856\n",
      "x [0.5060895 0.7509391] d 0.08701586\n",
      "x [0.50782543 0.74749553] d 0.0038563174\n",
      "x [0.50537056 0.74885184] d 0.0028046311\n",
      "x [0.50224954 0.7517185 ] d 0.0042377515\n",
      "x [0.5018329  0.75209254] d 0.00055990263\n",
      "x [0.50182664 0.75209826] d 8.467599e-06\n",
      "BIG STEP: t=300.50024962571416, gap=0.0399334110868344\n"
     ]
    }
   ],
   "source": [
    "t=1\n",
    "x=np.array([0.1,0.1])\n",
    "gap = m/t\n",
    "\n",
    "for _i in range(10):\n",
    "\n",
    "    prev_d=0\n",
    "\n",
    "    for _j in range(15):\n",
    "\n",
    "        d = jnp.dot(jnp.linalg.inv(H(x)),g(x))\n",
    "        # print ('d',d, jnp.linalg.norm(d))\n",
    "\n",
    "        if jnp.abs(prev_d - jnp.linalg.norm(d))<STOP:\n",
    "            break\n",
    "            \n",
    "        x -= d\n",
    "            \n",
    "        prev_d = jnp.linalg.norm(d)\n",
    "        #print ('d',jnp.linalg.norm(d))\n",
    "        print ('x',x,'d',jnp.linalg.norm(d))\n",
    "        \n",
    "    # print ('x BIG',x, g(x), H(x))\n",
    "\n",
    "    # update parameter t\n",
    "    t = (1 + 1/(13 * np.sqrt(nu))) * t\n",
    "\n",
    "    # update tabulations\n",
    "    gap = m/t\n",
    "    print (f'BIG STEP: t={t}, gap={gap}')\n",
    "    \n",
    "    "
   ]
  },
  {
   "cell_type": "markdown",
   "id": "a7186793-7ec3-4daf-bd7a-a044c06e6dbd",
   "metadata": {},
   "source": [
    "**Wikipedia implemetation**\n",
    "\n",
    "Implement based on the wikipedia page that inludes the dual primal vars"
   ]
  },
  {
   "attachments": {
    "9ba92b78-4f5e-4f74-ae2f-acf6216a2859.png": {
     "image/png": "[encoded data removed]"
    }
   },
   "cell_type": "markdown",
   "id": "42872fbd-0be4-4ad6-97d3-71a9e77170b2",
   "metadata": {},
   "source": [
    "Barrier Function\n",
    "\n",
    "![image.png](attachment:9ba92b78-4f5e-4f74-ae2f-acf6216a2859.png)"
   ]
  },
  {
   "cell_type": "code",
   "execution_count": 727,
   "id": "af8e9460-6111-4249-98fa-a265d6212597",
   "metadata": {},
   "outputs": [],
   "source": [
    "def hessian(f):\n",
    "    return jacfwd(grad(f))\n",
    "\n",
    "def jacobian(f):\n",
    "    return jacfwd(f)\n",
    "\n",
    "def f(x):\n",
    "    \"\"\" the function to be actually minimised\"\"\"\n",
    "    return -jnp.sum(x)\n",
    "\n",
    "def C(x):\n",
    "    \"\"\" the constraint function\"\"\"\n",
    "    constraints = [(x[0]*p*2+x[1]-p**2-1) for p in jnp.arange(0.,1.,0.1)] # h(x) <= 0\n",
    "    lowerbounds = [-x[0],-x[1]]   # -x<=0\n",
    "    return jnp.array(constraints+lowerbounds)\n",
    "\n",
    "def psi(x):\n",
    "    \"\"\"barrier function\"\"\"\n",
    "    return -1*jnp.sum(jnp.log(-C(x)))\n",
    "\n",
    "def B(x):\n",
    "    \"\"\" new optimisation probelm\"\"\"\n",
    "    return f(x) + mu * psi(x)\n",
    "\n",
    "\n",
    "    \n",
    "g_b = grad(B)\n",
    "g = grad(f)\n",
    "H = hessian(B)"
   ]
  },
  {
   "attachments": {
    "45bea778-8dca-4725-b2fe-8c06f91a1bcb.png": {
     "image/png": "[encoded data removed]"
    }
   },
   "cell_type": "markdown",
   "id": "2af4bfa6-196a-41d0-9def-53a550aa5da3",
   "metadata": {},
   "source": [
    "![image.png](attachment:45bea778-8dca-4725-b2fe-8c06f91a1bcb.png)"
   ]
  },
  {
   "cell_type": "code",
   "execution_count": null,
   "id": "cdc85f30-78c7-4f73-87be-372e0ffb6aa6",
   "metadata": {},
   "outputs": [],
   "source": [
    "# n = 2, m = 12"
   ]
  },
  {
   "attachments": {
    "9242a817-6f2d-4715-ad26-9bae20ff6552.png": {
     "image/png": "[encoded data removed]"
    }
   },
   "cell_type": "markdown",
   "id": "a6c49b79-4939-4813-bc35-109329ac88fc",
   "metadata": {},
   "source": [
    "![image.png](attachment:9242a817-6f2d-4715-ad26-9bae20ff6552.png)"
   ]
  },
  {
   "cell_type": "code",
   "execution_count": 728,
   "id": "c6e8491a-a2a4-4578-9f38-34d6c87d851a",
   "metadata": {},
   "outputs": [],
   "source": [
    "A = jacobian(C)\n",
    "W = hessian(B)"
   ]
  },
  {
   "attachments": {
    "7da8897c-3a61-4278-9867-498bbf0b477d.png": {
     "image/png": "[encoded data removed]"
    }
   },
   "cell_type": "markdown",
   "id": "30206b03-be0b-4cc6-a4d5-584365e8420e",
   "metadata": {},
   "source": [
    "![image.png](attachment:7da8897c-3a61-4278-9867-498bbf0b477d.png)"
   ]
  },
  {
   "cell_type": "markdown",
   "id": "cd372af9-e4f6-418a-8802-2b25ce8564ad",
   "metadata": {},
   "source": [
    "Express this as the form Q.P = R"
   ]
  },
  {
   "cell_type": "markdown",
   "id": "7fae998c-8e6d-4019-90dd-14134014473e",
   "metadata": {},
   "source": [
    "[  [2,2]   [2,10] ]   [2]  =  [  ]\n",
    "[ [10,2] , [10,10] ]  [10]"
   ]
  },
  {
   "cell_type": "markdown",
   "id": "b2c5cac8-fc31-43e9-a002-4eab6206af1f",
   "metadata": {},
   "source": [
    "[10x10] x [10,2]"
   ]
  },
  {
   "cell_type": "code",
   "execution_count": 977,
   "id": "5d34d396-cbae-43d0-85c9-6f1200e8a308",
   "metadata": {},
   "outputs": [],
   "source": [
    "x = np.array([0.1,0.1])\n",
    "L = mu/C(x) # lambda jnp.ones(C(x).shape[0])\n",
    "mu=0.1"
   ]
  },
  {
   "cell_type": "code",
   "execution_count": 978,
   "id": "e5e492e8-6062-4aa1-9c25-424c55f120b5",
   "metadata": {},
   "outputs": [],
   "source": [
    "n = x.shape[0]\n",
    "m = L.shape[0]\n",
    "nv = n+m\n",
    "alpha=0.2  # step size param. What can we do to get rid of this and ensure robustness?"
   ]
  },
  {
   "cell_type": "code",
   "execution_count": 979,
   "id": "65b3b95b-9424-4c17-8b1d-ebf49805196c",
   "metadata": {},
   "outputs": [
    {
     "name": "stdout",
     "output_type": "stream",
     "text": [
      "x: ['0.1000', '0.1000'] L:  -0.0052284575 -0.00034172923 -0.0012831202 sigma:  0.10081294 mu:  0.1 gap:  0.062235553\n",
      "x: ['0.1219', '0.1179'] L:  -0.203247 -0.01335808 -0.049948744 sigma:  0.32256287 mu:  0.00016865064 gap:  0.0062741498\n",
      "x: ['0.2236', '0.2140'] L:  -0.021756483 0.0066162646 -0.014864198 sigma:  0.32262444 mu:  0.0066196336 gap:  0.24621692\n",
      "x: ['0.5954', '0.4362'] L:  -0.032213204 -0.0068382276 -0.024837485 sigma:  0.2886953 mu:  0.0037758176 gap:  0.15694682\n",
      "x: ['0.5955', '0.5496'] L:  -0.04484725 -0.0054240865 -0.03164535 sigma:  0.27476287 mu:  0.0021983976 gap:  0.09601287\n",
      "x: ['0.5735', '0.6220'] L:  -0.061584894 -0.0044251145 -0.037859812 sigma:  0.2580491 mu:  0.0016376149 gap:  0.07615364\n",
      "x: ['0.5568', '0.6625'] L:  -0.08217999 -0.0037784707 -0.042936873 sigma:  0.24197347 mu:  0.0012579669 gap:  0.062385358\n",
      "x: ['0.5449', '0.6871'] L:  -0.1078803 -0.0032622523 -0.047042966 sigma:  0.22794682 mu:  0.0009952598 gap:  0.052394316\n",
      "x: ['0.5362', '0.7029'] L:  -0.1399596 -0.0028242995 -0.050331708 sigma:  0.21582241 mu:  0.00079722377 gap:  0.04432665\n",
      "x: ['0.5298', '0.7135'] L:  -0.17979676 -0.002443945 -0.052959766 sigma:  0.2054861 mu:  0.0006436092 gap:  0.03758556\n",
      "x: ['0.5253', '0.7204'] L:  -0.2278393 -0.0021117611 -0.055038653 sigma:  0.19673495 mu:  0.0005224039 gap:  0.03186443\n",
      "x: ['0.5222', '0.7249'] L:  -0.28222775 -0.0018212596 -0.056668803 sigma:  0.18943085 mu:  0.0004259805 gap:  0.026984867\n",
      "x: ['0.5201', '0.7278'] L:  -0.3392123 -0.001567164 -0.057974137 sigma:  0.1834204 mu:  0.00034879998 gap:  0.022819707\n",
      "x: ['0.5187', '0.7299'] L:  -0.39520222 -0.0013452551 -0.05907409 sigma:  0.17841837 mu:  0.00028648463 gap:  0.019268284\n",
      "x: ['0.5175', '0.7313'] L:  -0.4479146 -0.0011520158 -0.060049355 sigma:  0.17409243 mu:  0.00023570449 gap:  0.016246852\n",
      "x: ['0.5167', '0.7324'] L:  -0.4962491 -0.0009842986 -0.060942408 sigma:  0.17019607 mu:  0.00019405478 gap:  0.013682203\n",
      "x: ['0.5159', '0.7333'] L:  -0.5398483 -0.0008392058 -0.061772987 sigma:  0.1665912 mu:  0.00015978418 gap:  0.011509672\n",
      "x: ['0.5153', '0.7341'] L:  -0.5787625 -0.0007140724 -0.06254991 sigma:  0.16321003 mu:  0.000131551 gap:  0.009672273\n",
      "x: ['0.5148', '0.7348'] L:  -0.61325336 -0.0006064648 -0.06327768 sigma:  0.16002093 mu:  0.00010828701 gap:  0.008120463\n",
      "x: ['0.5143', '0.7353'] L:  -0.6436728 -0.0005141784 -0.0639583 sigma:  0.15700744 mu:  8.911934e-05 gap:  0.006811347\n",
      "x: ['0.5138', '0.7358'] L:  -0.6704299 -0.0004352297 -0.0645953 sigma:  0.15416275 mu:  7.333716e-05 gap:  0.005708551\n",
      "x: ['0.5134', '0.7363'] L:  -0.69390833 -0.00036784954 -0.06518982 sigma:  0.15147465 mu:  6.034072e-05 gap:  0.0047802627\n",
      "x: ['0.5131', '0.7367'] L:  -0.714499 -0.00031046564 -0.06574523 sigma:  0.14894043 mu:  4.96461e-05 gap:  0.003999943\n",
      "x: ['0.5127', '0.7371'] L:  -0.7325562 -0.00026169303 -0.06626424 sigma:  0.14654885 mu:  4.0845447e-05 gap:  0.0033445866\n",
      "x: ['0.5124', '0.7374'] L:  -0.7483901 -0.00022031569 -0.066748515 sigma:  0.14429106 mu:  3.360306e-05 gap:  0.0027946064\n",
      "x: ['0.5121', '0.7377'] L:  -0.7623067 -0.00018527146 -0.06720215 sigma:  0.14216265 mu:  2.764664e-05 gap:  0.0023336627\n"
     ]
    }
   ],
   "source": [
    "print ('x:',view_jax(x), 'L: ', L.min(), L.max(), L.mean(), 'sigma: ', sigma, 'mu: ', mu, 'gap: ', gap)\n",
    "for _ in range(25):\n",
    "    Q = jnp.concatenate([\n",
    "        jnp.concatenate([W(x),-1*A(x).T], axis=1),\n",
    "        jnp.concatenate([jnp.dot(jnp.diag(L),A(x)), jnp.diag(C(x))], axis=1),\n",
    "    ])\n",
    "    R = jnp.concatenate([\n",
    "        (-g(x)+jnp.dot(A(x).T,L)),\n",
    "        (mu - jnp.dot(jnp.diag(C(x)),L))\n",
    "    ])\n",
    "    \n",
    "    P = jnp.dot(jnp.linalg.inv(Q),R)\n",
    "    \n",
    "    # find the largest alpha stepsize, see matlab below\n",
    "    \n",
    "    gap = jnp.dot(C(x),L)\n",
    "    \n",
    "    sigma = jnp.sqrt(jnp.linalg.norm(R) / nv)\n",
    "    \n",
    "    x += alpha*P[0:2]\n",
    "    L += alpha*P[2:]\n",
    "    mu = sigma*gap /m\n",
    "    print ('x:',view_jax(x), 'L: ', L.min(), L.max(), L.mean(), 'sigma: ', sigma, 'mu: ', mu, 'gap: ', gap)"
   ]
  },
  {
   "cell_type": "code",
   "execution_count": null,
   "id": "016e8ade-17f8-4542-ad84-7dfa851f3a22",
   "metadata": {},
   "outputs": [],
   "source": []
  },
  {
   "cell_type": "markdown",
   "id": "c48b7b73-84ec-4df1-b87f-548eac120273",
   "metadata": {},
   "source": [
    "**With back-off**"
   ]
  },
  {
   "cell_type": "markdown",
   "id": "02870bc2-3044-4658-ad88-320ac6361e29",
   "metadata": {},
   "source": [
    "      ls     = ls + 1;\n",
    "      xnew   = x + alpha * px;\n",
    "      znew   = z + alpha * pz;\n",
    "      f      = objective(xnew);\n",
    "      c      = constraints(xnew);\n",
    "      psinew = merit(xnew,znew,f,c,mu,eps);\n",
    "      \n",
    "      % Stop backtracking search if we've found a candidate point that\n",
    "      % sufficiently decreases the merit function and satisfies all the\n",
    "      % constraints.\n",
    "      if sum(c > 0) == 0 & psinew < psi + tau*eta*alpha*dpsi\n",
    "\tx     = xnew;\n",
    "\tz     = znew;\n",
    "\tgprev = g;"
   ]
  },
  {
   "cell_type": "code",
   "execution_count": null,
   "id": "3b03fa1c-0340-42e1-bfb3-d2a1bceeedae",
   "metadata": {},
   "outputs": [],
   "source": []
  },
  {
   "cell_type": "code",
   "execution_count": 996,
   "id": "4988b289-e152-4439-8b4d-19c4deaddc93",
   "metadata": {},
   "outputs": [],
   "source": [
    "x = np.array([0.1,0.1])\n",
    "mu=0.1\n",
    "L = mu/C(x) # lambda jnp.ones(C(x).shape[0])"
   ]
  },
  {
   "cell_type": "code",
   "execution_count": 997,
   "id": "f7b437a0-a616-4874-b057-d9914a0d9b03",
   "metadata": {},
   "outputs": [],
   "source": [
    "n = x.shape[0]\n",
    "m = L.shape[0]\n",
    "nv = n+m\n",
    "#alpha=0.2  # step size param. What can we do to get rid of this and ensure robustness?\n",
    "beta=0.75\n",
    "tau = 0.01\n",
    "etamax=0.25"
   ]
  },
  {
   "cell_type": "code",
   "execution_count": 998,
   "id": "a5a8a8c8-6130-4467-af54-97b08f567195",
   "metadata": {},
   "outputs": [
    {
     "name": "stdout",
     "output_type": "stream",
     "text": [
      "x: ['0.1000', '0.1000'] L:  -1.0 -0.06535947 -0.24541084 sigma:  0.01448595 mu:  0.1 gap:  3.123955e-05\n",
      "x: ['0.1550', '0.1450'] L:  -0.55020714 -0.07151287 -0.1685429 alpha:  1.0 sigma:  0.34108678 mu:  0.034108683 gap:  1.2000002\n",
      "x: ['0.3043', '0.2505'] L:  -0.066712014 0.21281439 -0.017162494 alpha:  1.0 sigma:  0.24524549 mu:  0.023341773 gap:  1.1421261\n",
      "x: ['0.3285', '0.8526'] L:  -0.4254337 -0.0213072 -0.11007631 alpha:  0.75 sigma:  0.1692823 mu:  0.0046586893 gap:  0.33024287\n",
      "x: ['0.4384', '0.8001'] L:  -0.18766063 -0.0029385611 -0.07303703 alpha:  1.0 sigma:  0.2267209 mu:  0.008946056 gap:  0.4735014\n",
      "x: ['0.4548', '0.7783'] L:  -0.7969028 -0.012041938 -0.2103483 alpha:  1.0 sigma:  0.14501871 mu:  0.0008070455 gap:  0.06678136\n",
      "x: ['0.4794', '0.7636'] L:  -0.460331 -0.0006833188 -0.079199955 alpha:  1.0 sigma:  0.3691845 mu:  0.0037039153 gap:  0.12039234\n",
      "x: ['0.4943', '0.7477'] L:  -0.46537793 -0.0048769442 -0.09784278 alpha:  1.0 sigma:  0.07418745 mu:  0.00011151133 gap:  0.018037228\n",
      "x: ['0.4973', '0.7509'] L:  -0.57505953 -0.0021967383 -0.08836299 alpha:  0.5625 sigma:  0.118488915 mu:  0.00044611612 gap:  0.045180544\n",
      "x: ['0.4992', '0.7503'] L:  -0.6614698 -0.00059606077 -0.06775369 alpha:  1.0 sigma:  0.06740321 mu:  0.00011852747 gap:  0.021101806\n",
      "x: ['0.5001', '0.7498'] L:  -0.7725437 -0.00015836203 -0.06755099 alpha:  1.0 sigma:  0.13829799 mu:  6.47603e-05 gap:  0.0056191967\n",
      "x: ['0.5014', '0.7485'] L:  -0.8463123 -8.664191e-05 -0.07209936 alpha:  1.0 sigma:  0.1385366 mu:  1.6420177e-05 gap:  0.001422311\n",
      "x: ['0.5019', '0.7480'] L:  -0.83550674 -2.1990658e-05 -0.070030436 alpha:  1.0 sigma:  0.11684639 mu:  7.5565317e-06 gap:  0.0007760478\n",
      "x: ['0.5026', '0.7474'] L:  -0.80520403 -1.01211235e-05 -0.0672849 alpha:  1.0 sigma:  0.12701887 mu:  2.100672e-06 gap:  0.0001984592\n",
      "x: ['0.5029', '0.7471'] L:  -0.83308625 -2.8148402e-06 -0.06947525 alpha:  1.0 sigma:  0.13949004 mu:  1.0568901e-06 gap:  9.092177e-05\n",
      "x: ['0.5030', '0.7470'] L:  -0.8112621 -1.4150047e-06 -0.06763096 alpha:  1.0 sigma:  0.12961313 mu:  2.690046e-07 gap:  2.490531e-05\n",
      "x: ['0.5030', '0.7470'] L:  -0.8609011 -3.6002768e-07 -0.071748324 alpha:  1.0 sigma:  0.13796632 mu:  1.4923552e-07 gap:  1.2980169e-05\n",
      "x: ['0.5037', '0.7463'] L:  -0.8310728 -2.0012695e-07 -0.06925972 alpha:  1.0 sigma:  0.11850442 mu:  3.4292228e-08 gap:  3.472501e-06\n",
      "x: ['0.5032', '0.7468'] L:  -0.86304384 -8.4340336e-08 -0.071921855 alpha:  0.75 sigma:  0.13061342 mu:  2.0021401e-08 gap:  1.8394496e-06\n",
      "x: ['0.5032', '0.7468'] L:  -0.8630483 -8.415789e-08 -0.07192223 alpha:  0.0031712119389339932 sigma:  0.117613055 mu:  7.80499e-09 gap:  7.963392e-07\n",
      "x: ['0.5032', '0.7468'] L:  -0.8632736 -8.392436e-08 -0.071941 alpha:  0.0031712119389339932 sigma:  0.11761116 mu:  7.790162e-09 gap:  7.94839e-07\n",
      "x: ['0.5032', '0.7468'] L:  -0.8634986 -8.369153e-08 -0.07195975 alpha:  0.0031712119389339932 sigma:  0.11751439 mu:  7.765208e-09 gap:  7.9294546e-07\n",
      "x: ['0.5030', '0.7470'] L:  -0.9522166 -2.8680809e-08 -0.07935191 alpha:  0.75 sigma:  0.117417656 mu:  1.0762058e-08 gap:  1.0998746e-06\n",
      "x: ['0.5038', '0.7462'] L:  -0.9547841 -2.0681643e-08 -0.07956572 alpha:  0.5625 sigma:  0.06947109 mu:  2.6791007e-09 gap:  4.6277106e-07\n",
      "x: ['0.5038', '0.7462'] L:  -0.9548562 -2.062771e-08 -0.079571724 alpha:  0.0031712119389339932 sigma:  0.06757994 mu:  1.5961051e-09 gap:  2.8341637e-07\n",
      "x: ['0.5038', '0.7462'] L:  -0.9549561 -2.0569077e-08 -0.07958005 alpha:  0.0031712119389339932 sigma:  0.067526035 mu:  1.5923796e-09 gap:  2.8298055e-07\n"
     ]
    }
   ],
   "source": [
    "print ('x:',view_jax(x), 'L: ', L.min(), L.max(), L.mean(), 'sigma: ', sigma, 'mu: ', mu, 'gap: ', gap)\n",
    "for _ in range(25):\n",
    "    alpha = 1.\n",
    "    \n",
    "    Q = jnp.concatenate([\n",
    "        jnp.concatenate([W(x),-1*A(x).T], axis=1),\n",
    "        jnp.concatenate([jnp.dot(jnp.diag(L),A(x)), jnp.diag(C(x))], axis=1),\n",
    "    ])\n",
    "    R = jnp.concatenate([\n",
    "        (-g(x)+jnp.dot(A(x).T,L)),\n",
    "        (mu - jnp.dot(jnp.diag(C(x)),L))\n",
    "    ])\n",
    "    \n",
    "    P = jnp.dot(jnp.linalg.inv(Q),R)\n",
    "    \n",
    "    # find the largest alpha stepsize, see matlab below\n",
    "    \n",
    "    gap = jnp.dot(C(x),L)\n",
    "    \n",
    "    eta   = min(etamax,jnp.linalg.norm(R)/nv);\n",
    "    sigma = jnp.sqrt(jnp.linalg.norm(R) / nv)\n",
    "    \n",
    "    merit=B(x)\n",
    "    dmerit = g_b(x)\n",
    "    \n",
    "    i=0\n",
    "    \n",
    "    while True:\n",
    "        \n",
    "        x_new = x + alpha*P[0:2]\n",
    "        L_new = L + alpha*P[2:]\n",
    "        \n",
    "        c_new = C(x_new)\n",
    "        merit_new = B(x_new)\n",
    "        dmerit = g_b(x_new)\n",
    "        \n",
    "        if (((c_new < 0).all()) & (merit_new < (merit + tau*eta*alpha*jnp.dot(dmerit,P[0:2])))):\n",
    "            break\n",
    "        else:\n",
    "            i+=1\n",
    "            alpha = alpha*beta\n",
    "            \n",
    "            if i>=20:\n",
    "                break\n",
    "    \n",
    "    x += alpha*P[0:2]\n",
    "    L += alpha*P[2:]\n",
    "    mu = sigma*gap /m\n",
    "    print ('x:',view_jax(x), 'L: ', L.min(), L.max(), L.mean(),'alpha: ',alpha, 'sigma: ', sigma, 'mu: ', mu, 'gap: ', gap)"
   ]
  },
  {
   "cell_type": "markdown",
   "id": "1a640423-8c38-40e5-b041-49f22029337c",
   "metadata": {},
   "source": [
    "**Matlab implementation:**\n",
    "\n",
    "https://pcarbo.github.io/convexprog.html"
   ]
  },
  {
   "cell_type": "code",
   "execution_count": 64,
   "id": "94c31513-8237-4a97-b344-762f1c587ff7",
   "metadata": {},
   "outputs": [],
   "source": [
    "def hessian(f):\n",
    "    return jacfwd(grad(f))\n",
    "\n",
    "def jacobian(f):\n",
    "    return jacfwd(f)\n",
    "\n",
    "def f(x):\n",
    "    \"\"\" the function to be actually minimised\"\"\"\n",
    "    return -jnp.sum(x)\n",
    "\n",
    "def C(x):\n",
    "    \"\"\" the constraint function\"\"\"\n",
    "    constraints = [(x[0]*p*2+x[1]-p**2-1) for p in jnp.arange(0.,1.,0.1)] # h(x) <= 0\n",
    "    lowerbounds = [-x[0],-x[1]]   # -x<=0\n",
    "    return jnp.array(constraints+lowerbounds)\n",
    "\n",
    "def psi(x):\n",
    "    \"\"\"barrier function\"\"\"\n",
    "    return -1*jnp.sum(jnp.log(-1*C(x)))\n",
    "\n",
    "def B(x):\n",
    "    \"\"\" new optimisation probelm\"\"\"\n",
    "    return f(x) + mu * psi(x)\n",
    "    \n",
    "g = grad(B)\n",
    "H = hessian(B)"
   ]
  },
  {
   "cell_type": "code",
   "execution_count": null,
   "id": "48862e58-ae7a-4816-8c55-dadac5f7006c",
   "metadata": {},
   "outputs": [],
   "source": []
  },
  {
   "cell_type": "code",
   "execution_count": null,
   "id": "f92ccc38-7ba0-40cd-b058-1a3798a5a457",
   "metadata": {},
   "outputs": [],
   "source": []
  },
  {
   "cell_type": "code",
   "execution_count": null,
   "id": "14523637-0720-4411-a498-b5e245bd98f1",
   "metadata": {},
   "outputs": [],
   "source": []
  },
  {
   "cell_type": "markdown",
   "id": "fd0235bc-f9e1-410b-a6bc-f082f10a9d4b",
   "metadata": {},
   "source": [
    "Matlab code:"
   ]
  },
  {
   "cell_type": "markdown",
   "id": "1a22c99e-553f-4ab1-9dc5-554cd3b75772",
   "metadata": {},
   "source": [
    "% X = IPSOLVER(X0,OBJ,GRAD,CONSTR,JACOBIAN,DESCENTDIR,TOL,MAXITER,VERBOSE)\n",
    "% is a simple yet reasonably robust implementation of a primal-dual\n",
    "% interior-point solver for convex programs with convex inequality\n",
    "% constraints (it does not handle equality constraints). Precisely speaking,\n",
    "% it will compute the solution to the following optimization problem:\n",
    "%\n",
    "%     minimize    f(x)\n",
    "%     subject to  c(x) < 0,\n",
    "%\n",
    "% where f(x) is a convex objective and c(x) is a vector-valued function with\n",
    "% outputs that are convex in x. There are many, many optimization problems\n",
    "% that can be framed in this form (see the book \"Convex Optimization\" by\n",
    "% Boyd and Vandenberghe for a good start). This code is mostly based on\n",
    "% the descriptions provided in this reference:\n",
    "%\n",
    "%    Paul Armand, Jean C. Gilbert, Sophie Jan-Jegou. A Feasible BFGS\n",
    "%    Interior Point Algorithm for Solving Convex Minimization Problems. \n",
    "%    SIAM Journal on Optimization, Vol. 11, No. 1, pp. 199-222.\n",
    "%\n",
    "% However, to understand what is going on you will need to read up on\n",
    "% interior-point methods for constrained optimization. A good starting\n",
    "% point is the book of Boyd and Vandenberghe.\n",
    "%\n",
    "% The input X0 is the initial point for the solver. It must be an n x 1\n",
    "% matrix, where n is the number of (primal) optimization variables.\n",
    "% DESCENTDIR must be either: 'newton' for the Newton search direction,\n",
    "% 'bfgs' for the quasi-Newton search direction with the\n",
    "% Broyden-Fletcher-Goldfarb-Shanno (BFGS) update, or 'steepest' for the\n",
    "% steepest descent direction. The steepest descent direction is often quite\n",
    "% bad, and the solver may fail to converge to the solution if you take this\n",
    "% option. For the Newton direction, you must be able to compute the the\n",
    "% Hessian of the objective. Also note that we form a quasi-Newton\n",
    "% approximation to the objective, not to the Lagrangian (as is usually\n",
    "% done). This means that you will always have to provide second-order\n",
    "% information about the inequality constraint functions.\n",
    "% \n",
    "% TOL is the tolerance of the convergence criterion; it determines when the\n",
    "% solver should stop. MAXITER is the maximum number of iterations. And the\n",
    "% final input, VERBOSE, must be set to true or false depending on whether\n",
    "% you would like to see the progress of the solver.\n",
    "%\n",
    "% The inputs OBJ, GRAD, CONSTR and JACOBIAN must all be function handles. If\n",
    "% you don't know what function handles are, type HELP FUNCTION_HANDLE in\n",
    "% MATLAB.\n",
    "% \n",
    "%    * OBJ must be a handle to a function that takes 1 input, the vector\n",
    "%      of optimization variables, and returns the value of the function at\n",
    "%      the given point. The function definition should look something like F\n",
    "%      = OBJECTIVE(X).\n",
    "%\n",
    "%    * GRAD is a pointer to a function of the form G = GRADIENT(X), where\n",
    "%      G is the n x 1 gradient vector of the objective, or [G H] =\n",
    "%      GRADIENT(X) if the Newton step is used, in which case H is the n x n\n",
    "%      Hessian of the objective.\n",
    "%\n",
    "%    * CONSTR is a handle to a function of the form C = CONSTRAINTS(X),\n",
    "%      where C is the m x 1 vector of constraint responses at X.\n",
    "%\n",
    "%    * JACOBIAN is a handle to a function of the form [J W] =\n",
    "%      JACOBIAN(X,Z). The inputs are the primal variables X and the m x 1\n",
    "%      vector of dual variables Z. The return values are the m x n\n",
    "%      Jacobian matrix (containing the first-order partial derivatives\n",
    "%      of the inequality constraint functions), and W is the n x n\n",
    "%      Hessian of the Lagrangian (minus the Hessian of the objective), \n",
    "%      which is basically equal to\n",
    "%\n",
    "%          W = z(1)*W1 + z(2)*W2 + ... + z(m)*Wm,\n",
    "%\n",
    "%      where Wi is the Hessian of the ith constraint.\n",
    "%\n",
    "% If you set VERBOSE to true, then at each iteration the solver will output\n",
    "% the following information (from left to right): 1. the iteration number,\n",
    "% 2. the value of the objective, 3. the barrier parameter mu, 4. the\n",
    "% centering parameter sigma, 4. the residuals of the perturbed\n",
    "% Karush-Kuhn-Tucker system (rx, rc), 5. the step size, and the number of\n",
    "% iterations in the line search before we found a suitable descent step.\n",
    "%\n",
    "% If your optimization problem is large (i.e. it involves a lot of\n",
    "% optimization variables or inequality constraints) it might speed up the\n",
    "% solver to output sparse matrices. (Type HELP SPARSE in the MATLAB console\n",
    "% for more information on sparse matrices.)\n",
    "%\n",
    "% As a final note, the interior-point solver may not work very well if your\n",
    "% problem is very poorly scaled (i.e. the Hessian of the objective or the\n",
    "% Hessian of one of the constraint functions is poorly conditioned). It\n",
    "% is up to you to make sure you look at the conditioning of your problem.\n",
    "%\n",
    "%                                         Peter Carbonetto\n",
    "%                                         Dept. of Computer Science\n",
    "%                                         University of British Columbia\n",
    "%                                         Copyright 2008\n",
    "%\n",
    "function x = ipsolver (x, objective, gradient, constraints, jacobian, ...\n",
    "\t\t       descentdir, tolerance, maxiter, verbose)\n",
    "\n",
    "  % Some algorithm parameters.\n",
    "  eps       = 1e-8;   % A number close to zero.\n",
    "  sigmamax  = 0.5;    % The maximum centering parameter.\n",
    "  etamax    = 0.25;   % The maximum forcing number.\n",
    "  mumin     = 1e-9;   % Minimum barrier parameter.\n",
    "  alphamax  = 0.995;  % Maximum step size.\n",
    "  alphamin  = 1e-6;   % Minimum step size.\n",
    "  beta      = 0.75;   % Granularity of backtracking search.\n",
    "  tau       = 0.01;   % Amount of actual decrease we will accept in \n",
    "                      % line search.\n",
    "\n",
    "  % INITIALIZATION.  \n",
    "  % Get the number of primal variables (n), the number of constraints (m),\n",
    "  % and the total number of primal-dual optimization variables (nv).\n",
    "  % Initialize the Lagrange multipliers. Initialize the second-order\n",
    "  % information.\n",
    "  c  = constraints(x);\n",
    "  n  = length(x);\n",
    "  m  = length(c);\n",
    "  nv = n + m;\n",
    "  z  = ones(m,1);\n",
    "  B  = eye(n);\n",
    "  \n",
    "  if verbose\n",
    "    fprintf('  i f(x)       lg(mu) sigma   ||rx||  ||rc||  alpha   #ls\\n');\n",
    "  end\n",
    "  \n",
    "  % Repeat while the convergence criterion has not been satisfied, and\n",
    "  % we haven't reached the maximum number of iterations.\n",
    "  alpha = 0;\n",
    "  ls    = 0;\n",
    "  for iter = 1:maxiter\n",
    "\n",
    "    % COMPUTE OBJECTIVE, GRADIENT, CONSTRAINTS, ETC.  \n",
    "    % Compute the response of the objective function, the gradient of the\n",
    "    % objective, the response of the inequality constraints, the Jacobian of\n",
    "    % the inequality constraints, the Hessian of the Lagrangian (minus the\n",
    "    % Hessian of the objective) and, optionally, the Hessian of the\n",
    "    % objective.\n",
    "    f     = objective(x);\n",
    "    c     = constraints(x);\n",
    "    [J W] = jacobian(x,z);\n",
    "    if strcmp(descentdir,'newton')\n",
    "      [g B] = gradient(x);\n",
    "    else\n",
    "      g = gradient(x);\n",
    "    end\n",
    "    \n",
    "    % Compute the responses of the unperturbed Karush-Kuhn-Tucker\n",
    "    % optimality conditions.\n",
    "    rx = g + J'*z;  % Dual residual.\n",
    "    rc = c.*z;      % Complementarity.\n",
    "    r0 = [rx; rc]; \n",
    "    \n",
    "    % Set some parameters that affect convergence of the primal-dual\n",
    "    % interior-point method.\n",
    "    eta        = min(etamax,norm(r0)/nv);\n",
    "    sigma      = min(sigmamax,sqrt(norm(r0)/nv));\n",
    "    dualitygap = -c'*z;\n",
    "    mu         = max(mumin,sigma*dualitygap/m);\n",
    "    \n",
    "    % Print the status of the algorithm.\n",
    "    if verbose\n",
    "      fprintf('%3d %+0.3e  %+5.2f %0.1e %0.1e %0.1e %0.1e %3d\\n',...\n",
    "\t      iter,f,log10(mu),sigma,norm(rx),norm(rc),alpha,ls);\n",
    "    end\n",
    "\n",
    "    % CONVERGENCE CHECK.\n",
    "    % If the norm of the responses is less than the specified tolerance,\n",
    "    % we are done. \n",
    "    if norm(r0)/nv < tolerance\n",
    "      break\n",
    "    end\n",
    "    \n",
    "    % Update the BFGS approximation to the Hessian of the objective.\n",
    "    if strcmp(descentdir,'bfgs') & iter > 1\n",
    "      B = bfgsupdate(B,alpha*px,g-gprev);\n",
    "    end\n",
    "\n",
    "    % SOLUTION TO PERTURBED KKT SYSTEM.\n",
    "    % Compute the search direction of x and z.\n",
    "    S  = diag(sparse(z./(c-eps)));\n",
    "    gb = g - mu*J'*(1./(c-eps));\n",
    "    px = (B + W - J'*S*J) \\ (-gb);\n",
    "    pz = -(z + mu./(c-eps) + S*J*px);\n",
    "    \n",
    "    % BACKTRACKING LINE SEARCH.\n",
    "    % To ensure global convergence, execute backtracking line search to\n",
    "    % determine the step length. First, we have to find the largest step\n",
    "    % size which ensures that z remains feasible. Next, we perform\n",
    "    % backtracking line search.\n",
    "    alpha = alphamax;\n",
    "    is    = find(z + pz < 0);\n",
    "    if length(is)\n",
    "      alpha = alphamax * min(1,min(z(is) ./ -pz(is)));\n",
    "    end\n",
    "    \n",
    "    % Compute the response of the merit function and the directional\n",
    "    % gradient at the current point and search direction.\n",
    "    psi  = merit(x,z,f,c,mu,eps);\n",
    "    dpsi = gradmerit(x,z,px,pz,g,c,J,mu,eps);\n",
    "    ls   = 0;\n",
    "    while true\n",
    "\n",
    "      % Compute the candidate point, the constraints, and the response of\n",
    "      % the objective function and merit function at the candidate point.\n",
    "      ls     = ls + 1;\n",
    "      xnew   = x + alpha * px;\n",
    "      znew   = z + alpha * pz;\n",
    "      f      = objective(xnew);\n",
    "      c      = constraints(xnew);\n",
    "      psinew = merit(xnew,znew,f,c,mu,eps);\n",
    "      \n",
    "      % Stop backtracking search if we've found a candidate point that\n",
    "      % sufficiently decreases the merit function and satisfies all the\n",
    "      % constraints.\n",
    "      if sum(c > 0) == 0 & psinew < psi + tau*eta*alpha*dpsi\n",
    "\tx     = xnew;\n",
    "\tz     = znew;\n",
    "\tgprev = g;\n",
    "\tbreak\n",
    "      end\n",
    "      \n",
    "      % The candidate point does not meet our criteria, so decrease the step\n",
    "      % size for 0 < beta < 1.\n",
    "      alpha = alpha * beta;\n",
    "      if alpha < alphamin\n",
    "\terror('Step size too small');\n",
    "      end\n",
    "    end\n",
    "  end\n",
    "  \n",
    "% ------------------------------------------------------------------\n",
    "% Compute the response of the merit function at (x,z).\n",
    "function psi = merit (x, z, f, c, mu, eps)\n",
    "  psi = f - c'*z - mu*sum(log(c.^2.*z+eps));\n",
    "  \n",
    "% ------------------------------------------------------------------\n",
    "% Compute the directional derivative of the merit function at (x,z).\n",
    "function dpsi = gradmerit (x, z, px, pz, g, c, J, mu, eps)\n",
    "  dpsi = px'*(g - J'*z - 2*mu*J'*(1./(c-eps))) - pz'*(c + mu./(z+eps));\n",
    "\n",
    "% ------------------------------------------------------------------\n",
    "% Update the quasi-Newton approximation using Broyden-Fletcher-\n",
    "% Goldfarb-Shanno (BFGS) formula.\n",
    "function B = bfgsupdate (B, s, y)  \n",
    "  if y'*s < 0\n",
    "    error('dot(y,s) > 0 is not satisfied');\n",
    "  end\n",
    "  x = B*s;\n",
    "  B = B - x*x'/(x'*s) + y*y'/(y'*s);\n",
    "  "
   ]
  },
  {
   "cell_type": "code",
   "execution_count": null,
   "id": "de8308e5-9d47-4ed4-8928-9cb421435910",
   "metadata": {},
   "outputs": [],
   "source": []
  }
 ],
 "metadata": {
  "kernelspec": {
   "display_name": "Python (gridlandia)",
   "language": "python",
   "name": "gridlandia"
  },
  "language_info": {
   "codemirror_mode": {
    "name": "ipython",
    "version": 3
   },
   "file_extension": ".py",
   "mimetype": "text/x-python",
   "name": "python",
   "nbconvert_exporter": "python",
   "pygments_lexer": "ipython3",
   "version": "3.8.13"
  }
 },
 "nbformat": 4,
 "nbformat_minor": 5
}
