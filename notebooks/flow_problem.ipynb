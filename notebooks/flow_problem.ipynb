{
 "cells": [
  {
   "cell_type": "markdown",
   "id": "6afd684e-a04f-4c45-9105-9894d2e9bf87",
   "metadata": {},
   "source": [
    "# A Network Simplex Energy Systems Model"
   ]
  },
  {
   "cell_type": "markdown",
   "id": "ea836077-03ad-4d60-811f-63d933fd7d6a",
   "metadata": {},
   "source": [
    "What if we could re-formulate MILP energy systems models as a minimum-cost-flow problem? This would allow us to use super-efficient simplex methods to solve for energy flow, basically creating the minimum-cost sankey diagram through time.\n",
    "\n",
    "**Advantages:**\n",
    "- model using plant-based data\n",
    "- flexible region-sector-time definition\n",
    "- min-cost simplex problem\n",
    "\n",
    "**Trade-offs:**\n",
    "- integer-value capacity-expansions\n",
    "\n",
    "**Questions:**\n",
    "- emissions and other constraints?\n",
    "- operating models?\n",
    "- storage?"
   ]
  },
  {
   "cell_type": "markdown",
   "id": "2ecb8973-72f9-4b3b-b801-3d83e30047f6",
   "metadata": {},
   "source": [
    "![alternative text](netflow_esys_model.png)"
   ]
  },
  {
   "cell_type": "markdown",
   "id": "e4a86dd5-50b9-4ccf-bf62-5b17f2edcf8b",
   "metadata": {},
   "source": [
    "### Let's demonstrate the capacity expansion mechanism first"
   ]
  },
  {
   "cell_type": "markdown",
   "id": "b361e4e5-a966-4ba1-853c-f299d7cc5eae",
   "metadata": {},
   "source": [
    "**Problem Formulation:**\n",
    "Let's find the minimum cost flow for a graph, etc. etc."
   ]
  },
  {
   "cell_type": "markdown",
   "id": "91c74eb6-9168-4efb-a23e-e49c426b247e",
   "metadata": {},
   "source": [
    "![alternative text](simple_toy.png)"
   ]
  },
  {
   "cell_type": "code",
   "execution_count": 1,
   "id": "edfb3ea9-bf93-4786-b664-f4850239520a",
   "metadata": {},
   "outputs": [],
   "source": [
    "from pydantic import BaseModel\n",
    "from itertools import chain, product"
   ]
  },
  {
   "cell_type": "markdown",
   "id": "189a3b23-4cae-4207-9dbd-f9acbea43a8f",
   "metadata": {},
   "source": [
    "**Define some plants / technologies**"
   ]
  },
  {
   "cell_type": "code",
   "execution_count": 182,
   "id": "6c091c8a-85f1-4ce6-8879-8b67b9374a23",
   "metadata": {},
   "outputs": [],
   "source": [
    "from typing import Optional"
   ]
  },
  {
   "cell_type": "code",
   "execution_count": 183,
   "id": "020b1895-5ece-4d52-a295-4ce40c08a718",
   "metadata": {},
   "outputs": [],
   "source": [
    "class Plant(BaseModel):\n",
    "    id:str                       # id\n",
    "    remaining_life: int          # years\n",
    "    output_capacity: int                # kW\n",
    "    io_ratio: float              # efficiency\n",
    "    capex: int                   # $\n",
    "    opex: int                    # $/KWh\n",
    "    commodity_input: str         # INPUT commodity\n",
    "    commodity_output: str        # OUTPUT commodity\n",
    "    availability_year: int       # first year\n",
    "    inp_nodes: Optional[list] = None\n",
    "    outp_nodes: Optional[list] = None\n",
    "    capexp_node: Optional[str] = None\n",
    "    active_yrtimes: Optional[list] = None\n",
    "    input_capacity: int = None"
   ]
  },
  {
   "cell_type": "code",
   "execution_count": 184,
   "id": "b7b63444-a871-4715-b004-2dd46ded30f1",
   "metadata": {},
   "outputs": [],
   "source": [
    "initial_plants = [\n",
    "    Plant(\n",
    "        id='plant-existing-0',\n",
    "        remaining_life=5,\n",
    "        output_capacity = 2000,\n",
    "        io_ratio = 0.8,\n",
    "        capex = 0,\n",
    "        opex = 1,\n",
    "        commodity_input = \"INPUT\",\n",
    "        commodity_output = \"OUTPUT\",\n",
    "        availability_year = 0,\n",
    "        input_capacity = int(2000/0.8),\n",
    "    ),\n",
    "    Plant(\n",
    "        id='plant-existing-1',\n",
    "        remaining_life=15,\n",
    "        output_capacity = 5000,\n",
    "        io_ratio = 0.6,\n",
    "        capex = 0,\n",
    "        opex=2,\n",
    "        commodity_input = \"INPUT\",\n",
    "        commodity_output = \"OUTPUT\",\n",
    "        availability_year = 0,\n",
    "        input_capacity = int(5000/0.6),\n",
    "    )\n",
    "]"
   ]
  },
  {
   "cell_type": "code",
   "execution_count": 185,
   "id": "a08b8590-25c2-4c84-b96a-1208509dae6a",
   "metadata": {},
   "outputs": [],
   "source": [
    "new_plants = [\n",
    "    [\n",
    "        Plant(\n",
    "            id=f'plant-new-{year}-0',\n",
    "            remaining_life=10,\n",
    "            output_capacity=1000,\n",
    "            io_ratio = 0.8-0.2*(year/30),\n",
    "            capex = 1500*1000,\n",
    "            opex = 1,\n",
    "            availability_year = year,\n",
    "            commodity_input = \"INPUT\",\n",
    "            commodity_output = \"OUTPUT\",\n",
    "            input_capacity = int(1000/( 0.8-0.2*(year/30))),\n",
    "        ),\n",
    "        Plant(\n",
    "            id=f'plant-new-{year}-1',\n",
    "            remaining_life=20,\n",
    "            output_capacity=2000,\n",
    "            io_ratio =  0.6-0.1*(year/30),\n",
    "            capex = 1000*2000,\n",
    "            opex = 2,\n",
    "            availability_year = year,\n",
    "            commodity_input = \"INPUT\",\n",
    "            commodity_output = \"OUTPUT\",\n",
    "            input_capacity = int(2000/(0.6-0.1*(year/30))),\n",
    "        ),\n",
    "    ]\n",
    "    for year in range(30)\n",
    "]\n",
    "all_plants = initial_plants + list(chain(*new_plants))"
   ]
  },
  {
   "cell_type": "markdown",
   "id": "1e0e7a1a-14d5-4fd5-b85b-121b9cd60671",
   "metadata": {},
   "source": [
    "**Set some demands**"
   ]
  },
  {
   "cell_type": "code",
   "execution_count": 186,
   "id": "3bcddc10-caa6-4546-97af-b6aeb72b07f8",
   "metadata": {},
   "outputs": [],
   "source": [
    "times = range(12)\n",
    "years = range(30)\n",
    "peak_demands = {yr:6000+500*yr for yr in years}\n",
    "yr_time_demand = {f'{yr}-{t}':int(0.5*peak_demands[yr]+0.5*peak_demands[yr]*(1-(abs((t-6)/6)))) for yr, t in product(years, times)}\n",
    "commodities = [\"INPUT\",\"OUTPUT\"]"
   ]
  },
  {
   "cell_type": "markdown",
   "id": "0df89d27-e0b2-4052-85a9-f14dc6b08714",
   "metadata": {},
   "source": [
    "### BUILD THE GRAPH"
   ]
  },
  {
   "cell_type": "code",
   "execution_count": 7,
   "id": "de1379a6-7f60-468e-bd0a-02569b1529ea",
   "metadata": {},
   "outputs": [],
   "source": [
    "import networkx as nx"
   ]
  },
  {
   "cell_type": "code",
   "execution_count": 207,
   "id": "dea514b1-0fe0-4981-810a-b3b13fd33237",
   "metadata": {},
   "outputs": [],
   "source": [
    "G = nx.DiGraph()"
   ]
  },
  {
   "cell_type": "markdown",
   "id": "4eaeedf5-8a98-4e21-aeec-c5218a4550ec",
   "metadata": {},
   "source": [
    "**Add all the Nodes**"
   ]
  },
  {
   "cell_type": "code",
   "execution_count": 208,
   "id": "3db3ca88-b223-42d8-b220-647247f59071",
   "metadata": {},
   "outputs": [],
   "source": [
    "# commodity buses\n",
    "commodity_nodes = ['-'.join([commodity,yr_time]) for commodity, yr_time in product(commodities, yr_time_demand.keys())]"
   ]
  },
  {
   "cell_type": "code",
   "execution_count": 209,
   "id": "fe95bf22-efb0-4ec4-aeb2-a41dd0a88b57",
   "metadata": {},
   "outputs": [],
   "source": [
    "G.add_nodes_from(commodity_nodes)"
   ]
  },
  {
   "cell_type": "code",
   "execution_count": 210,
   "id": "66561909-3abc-4e25-9534-4e3259c2672d",
   "metadata": {},
   "outputs": [],
   "source": [
    "# add existing plants and new plants\n",
    "for plant in all_plants:\n",
    "    # add input nodes\n",
    "    plant.active_yrtimes = [[yr,t] for yr, t in product(range(plant.availability_year, min(30,plant.availability_year+plant.remaining_life)), times)]\n",
    "    inp_nodes = [f'{plant.id}-{yr}-{t}-{plant.commodity_input}' for yr, t in product(range(plant.availability_year, min(30,plant.availability_year+plant.remaining_life)), times)]\n",
    "    # add output nodes\n",
    "    outp_nodes = [f'{plant.id}-{yr}-{t}-{plant.commodity_output}' for yr, t in product(range(plant.availability_year, min(30,plant.availability_year+plant.remaining_life)), times)]\n",
    "    # add cap_exp_node\n",
    "    add_nodes = inp_nodes + outp_nodes + [f'{plant.id}-capexp']\n",
    "    plant.inp_nodes = inp_nodes\n",
    "    plant.outp_nodes = outp_nodes\n",
    "    plant.capexp_node = f'{plant.id}-capexp'\n",
    "    G.add_nodes_from(add_nodes)"
   ]
  },
  {
   "cell_type": "code",
   "execution_count": 211,
   "id": "8c61e415-3b02-43a3-83e5-f089732d1042",
   "metadata": {},
   "outputs": [],
   "source": [
    "# add optimisation nodes\n",
    "global_demand = sum(yr_time_demand.values())\n",
    "LARGE_VAL = global_demand*100\n",
    "optim_nodes = [\n",
    "    ('GLOBAL_DEMAND',{'demand':global_demand}),\n",
    "    ('GLOBAL_SUPPLY',{'demand':-LARGE_VAL}),\n",
    "    ('LOSS_SINK',{'demand':LARGE_VAL-global_demand}),\n",
    "    ('CAPEXP_SOURCE',{'demand':-LARGE_VAL}),\n",
    "    ('CAPEXP_SINK',{'demand':LARGE_VAL}),\n",
    "]\n",
    "G.add_nodes_from(optim_nodes)"
   ]
  },
  {
   "cell_type": "code",
   "execution_count": 212,
   "id": "68d3d382-afaa-490f-a92e-57157603d032",
   "metadata": {},
   "outputs": [
    {
     "data": {
      "text/plain": [
       "[('GLOBAL_DEMAND', {'demand': 3577420}),\n",
       " ('GLOBAL_SUPPLY', {'demand': -357742000}),\n",
       " ('LOSS_SINK', {'demand': 354164580}),\n",
       " ('CAPEXP_SOURCE', {'demand': -357742000}),\n",
       " ('CAPEXP_SINK', {'demand': 357742000})]"
      ]
     },
     "execution_count": 212,
     "metadata": {},
     "output_type": "execute_result"
    }
   ],
   "source": [
    "optim_nodes"
   ]
  },
  {
   "cell_type": "markdown",
   "id": "4af1cfc7-5e43-487c-9d16-09171fcaa5dd",
   "metadata": {},
   "source": [
    "**Add all the edges**\n",
    "\n",
    "*... here be dragons...*"
   ]
  },
  {
   "cell_type": "code",
   "execution_count": 213,
   "id": "f1fbad9b-1ebe-439d-a355-fb2ba4d8d745",
   "metadata": {},
   "outputs": [],
   "source": [
    "SUPPLY_COST=1"
   ]
  },
  {
   "cell_type": "code",
   "execution_count": 214,
   "id": "93c6c473-93a4-4be5-a2f5-fd641f792a39",
   "metadata": {},
   "outputs": [],
   "source": [
    "### ENERGY FLOW\n",
    "# input & output edges\n",
    "input_edges = [ ('GLOBAL_SUPPLY','-'.join(['INPUT',yr_time]),{'capacity':LARGE_VAL,'cost_var':SUPPLY_COST,'cost_fixed':0}) for yr_time in yr_time_demand.keys()]\n",
    "output_edges = [('-'.join(['OUTPUT',yr_time]),'GLOBAL_DEMAND',{'capacity':val, 'cost_var':0, 'cost_fixed':0}) for yr_time, val in yr_time_demand.items()]\n",
    "G.add_edges_from(input_edges+output_edges)"
   ]
  },
  {
   "cell_type": "code",
   "execution_count": 215,
   "id": "8a08c9af-10bd-4b7d-b7ea-b787b7d1d968",
   "metadata": {},
   "outputs": [],
   "source": [
    "# plant endges\n",
    "for plant in all_plants:\n",
    "    input_edges =  [('-'.join([plant.commodity_input,str(yr),str(t)]), f'{plant.id}-{yr}-{t}-{plant.commodity_input}', {'capacity':plant.input_capacity, 'cost_var':0, 'cost_fixed':0}) for yr,t in plant.active_yrtimes]# inp-commod to inp-plant\n",
    "    bridge_edges = [(f'{plant.id}-{yr}-{t}-{plant.commodity_input}',f'{plant.id}-{yr}-{t}-{plant.commodity_output}', {'capacity':plant.output_capacity-1, 'cost_var':0, 'cost_fixed':0}) for yr,t in plant.active_yrtimes]\n",
    "    output_edges = [(f'{plant.id}-{yr}-{t}-{plant.commodity_output}','-'.join([plant.commodity_output,str(yr),str(t)]), {'capacity':plant.output_capacity, 'cost_var':plant.opex, 'cost_fixed':0}) for yr,t in plant.active_yrtimes]\n",
    "    loss_edges = [(f'{plant.id}-{yr}-{t}-{plant.commodity_input}','LOSS_SINK', {'capacity':plant.input_capacity-plant.output_capacity, 'cost_var':0, 'cost_fixed':0}) for yr,t in plant.active_yrtimes]\n",
    "    capexp_minus_edges = [(f'{plant.id}-{yr}-{t}-{plant.commodity_input}','CAPEX_SINK',{'capacity':1, 'cost_var':0, 'cost_fixed':0}) for yr,t in plant.active_yrtimes]\n",
    "    capexp_plus_edges = [(plant.capexp_node,f'{plant.id}-{yr}-{t}-{plant.commodity_input}',{'capacity':1, 'cost_var':0, 'cost_fixed':0}) for yr,t in plant.active_yrtimes]\n",
    "    capexp_edge = [('CAPEXP_SOURCE',plant.capexp_node,{'capacity':LARGE_VAL, 'cost_var':0, 'cost_fixed':plant.capex})]\n",
    "    G.add_edges_from(input_edges+bridge_edges+output_edges+loss_edges+capexp_minus_edges+capexp_plus_edges+capexp_edge)"
   ]
  },
  {
   "cell_type": "code",
   "execution_count": 216,
   "id": "03f193b3-0606-4c9a-8bda-408c5655815a",
   "metadata": {},
   "outputs": [],
   "source": [
    "# add bypasses\n",
    "supply_bypass = ('GLOBAL_SUPPLY','LOSS_SINK',{'capacity':LARGE_VAL,'cost_var':LARGE_VAL*1e9,'cost_fixed':0})\n",
    "capexp_bypass = ('CAPEXP_SOURCE','CAPEXP_SINK',{'capacity':LARGE_VAL,'cost_var':0,'cost_fixed':0})\n",
    "G.add_edges_from([supply_bypass, capexp_bypass])"
   ]
  },
  {
   "cell_type": "code",
   "execution_count": 217,
   "id": "cac4c798-287e-4c0f-b6ef-b30737d5e7c1",
   "metadata": {},
   "outputs": [],
   "source": [
    "from my_simplex import my_network_simplex"
   ]
  },
  {
   "cell_type": "code",
   "execution_count": 218,
   "id": "eceb2fa4-d473-4099-aebe-3a0fdab2e5d6",
   "metadata": {},
   "outputs": [],
   "source": [
    "cost, outflows = my_network_simplex(G, demand=\"demand\", capacity=\"capacity\", weight_var=\"cost_var\", weight_fixed=\"cost_fixed\")"
   ]
  },
  {
   "cell_type": "code",
   "execution_count": 219,
   "id": "3663159e-a6ac-4c29-a959-d09684c42d1c",
   "metadata": {},
   "outputs": [],
   "source": [
    "inflows = {kk:{} for kk in flows.keys()}"
   ]
  },
  {
   "cell_type": "code",
   "execution_count": 220,
   "id": "b37e656c-7597-4991-bb3f-9a2b91f133a5",
   "metadata": {},
   "outputs": [],
   "source": [
    "for kk1,vv in flows.items():\n",
    "    for kk2, val in vv.items():\n",
    "        inflows[kk2][kk1] = val"
   ]
  },
  {
   "cell_type": "code",
   "execution_count": 221,
   "id": "2632f7aa-f015-4c7a-92c5-58fa2036e2c0",
   "metadata": {},
   "outputs": [
    {
     "data": {
      "text/plain": [
       "({'plant-existing-1-0-0-OUTPUT': 3000, 'LOSS_SINK': 3333, 'CAPEX_SINK': 0},\n",
       " {'INPUT-0-0': 3000, 'plant-existing-1-capexp': 0})"
      ]
     },
     "execution_count": 221,
     "metadata": {},
     "output_type": "execute_result"
    }
   ],
   "source": [
    "outflows['plant-existing-1-0-0-INPUT'], inflows['plant-existing-1-0-0-INPUT']"
   ]
  },
  {
   "cell_type": "code",
   "execution_count": 222,
   "id": "8262c55d-e4ba-4e04-8a90-b975a65e69d7",
   "metadata": {},
   "outputs": [
    {
     "data": {
      "text/plain": [
       "({'plant-existing-0-0-0-OUTPUT': 0,\n",
       "  'plant-existing-1-0-0-OUTPUT': 3000,\n",
       "  'plant-new-0-0-0-0-OUTPUT': 0,\n",
       "  'plant-new-0-1-0-0-OUTPUT': 0},\n",
       " {'GLOBAL_DEMAND': 3000})"
      ]
     },
     "execution_count": 222,
     "metadata": {},
     "output_type": "execute_result"
    }
   ],
   "source": [
    "inflows['OUTPUT-0-0'], outflows['OUTPUT-0-0']"
   ]
  },
  {
   "cell_type": "code",
   "execution_count": 223,
   "id": "cd1499c3-cedf-4f20-9c30-689d8dc1f534",
   "metadata": {},
   "outputs": [
    {
     "data": {
      "text/plain": [
       "({'INPUT-0-0': 3000, 'plant-existing-1-capexp': 0},\n",
       " {'plant-existing-1-0-0-OUTPUT': 3000, 'LOSS_SINK': 3333, 'CAPEX_SINK': 0})"
      ]
     },
     "execution_count": 223,
     "metadata": {},
     "output_type": "execute_result"
    }
   ],
   "source": [
    "inflows['plant-existing-1-0-0-INPUT'],outflows['plant-existing-1-0-0-INPUT']"
   ]
  },
  {
   "cell_type": "code",
   "execution_count": 206,
   "id": "06d05cbb-5a7b-4793-bd68-f9080f52881b",
   "metadata": {},
   "outputs": [
    {
     "data": {
      "text/plain": [
       "{'CAPEXP_SOURCE': 357742000}"
      ]
     },
     "execution_count": 206,
     "metadata": {},
     "output_type": "execute_result"
    }
   ],
   "source": [
    "inflows['CAPEXP_SINK']"
   ]
  },
  {
   "cell_type": "code",
   "execution_count": null,
   "id": "e7391038-2b50-4882-b347-9df0bea7d6ed",
   "metadata": {},
   "outputs": [],
   "source": []
  }
 ],
 "metadata": {
  "kernelspec": {
   "display_name": "Python (gridlandia)",
   "language": "python",
   "name": "gridlandia"
  },
  "language_info": {
   "codemirror_mode": {
    "name": "ipython",
    "version": 3
   },
   "file_extension": ".py",
   "mimetype": "text/x-python",
   "name": "python",
   "nbconvert_exporter": "python",
   "pygments_lexer": "ipython3",
   "version": "3.8.13"
  }
 },
 "nbformat": 4,
 "nbformat_minor": 5
}
