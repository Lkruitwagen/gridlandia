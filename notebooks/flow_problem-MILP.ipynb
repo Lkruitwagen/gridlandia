{
 "cells": [
  {
   "cell_type": "markdown",
   "id": "6afd684e-a04f-4c45-9105-9894d2e9bf87",
   "metadata": {},
   "source": [
    "# A Network Simplex Energy Systems Model"
   ]
  },
  {
   "cell_type": "markdown",
   "id": "ea836077-03ad-4d60-811f-63d933fd7d6a",
   "metadata": {},
   "source": [
    "What if we could re-formulate MILP energy systems models as a minimum-cost-flow problem? This would allow us to use super-efficient simplex methods to solve for energy flow, basically creating the minimum-cost sankey diagram through time.\n",
    "\n",
    "**Advantages:**\n",
    "- model using plant-based data\n",
    "- flexible region-sector-time definition\n",
    "- min-cost simplex problem\n",
    "\n",
    "**Trade-offs:**\n",
    "- integer-value capacity-expansions\n",
    "\n",
    "**Questions:**\n",
    "- emissions and other constraints?\n",
    "- operating models?\n",
    "- storage?"
   ]
  },
  {
   "cell_type": "markdown",
   "id": "2ecb8973-72f9-4b3b-b801-3d83e30047f6",
   "metadata": {},
   "source": [
    "![alternative text](netflow_esys_model.png)"
   ]
  },
  {
   "cell_type": "markdown",
   "id": "e4a86dd5-50b9-4ccf-bf62-5b17f2edcf8b",
   "metadata": {},
   "source": [
    "### Let's demonstrate the capacity expansion mechanism first"
   ]
  },
  {
   "cell_type": "markdown",
   "id": "b361e4e5-a966-4ba1-853c-f299d7cc5eae",
   "metadata": {},
   "source": [
    "**Problem Formulation:**\n",
    "Let's find the minimum cost flow for a graph, etc. etc."
   ]
  },
  {
   "cell_type": "markdown",
   "id": "91c74eb6-9168-4efb-a23e-e49c426b247e",
   "metadata": {},
   "source": [
    "![alternative text](simple_toy.png)"
   ]
  },
  {
   "cell_type": "code",
   "execution_count": 2,
   "id": "edfb3ea9-bf93-4786-b664-f4850239520a",
   "metadata": {},
   "outputs": [],
   "source": [
    "from pydantic import BaseModel\n",
    "from itertools import chain, product"
   ]
  },
  {
   "cell_type": "markdown",
   "id": "189a3b23-4cae-4207-9dbd-f9acbea43a8f",
   "metadata": {},
   "source": [
    "**Define some plants / technologies**"
   ]
  },
  {
   "cell_type": "code",
   "execution_count": 3,
   "id": "6c091c8a-85f1-4ce6-8879-8b67b9374a23",
   "metadata": {},
   "outputs": [],
   "source": [
    "from typing import Optional"
   ]
  },
  {
   "cell_type": "code",
   "execution_count": 4,
   "id": "020b1895-5ece-4d52-a295-4ce40c08a718",
   "metadata": {},
   "outputs": [],
   "source": [
    "class Plant(BaseModel):\n",
    "    id:str                       # id\n",
    "    remaining_life: int          # years\n",
    "    output_capacity: int                # kW\n",
    "    io_ratio: float              # efficiency\n",
    "    capex: int                   # $\n",
    "    opex: int                    # $/KWh\n",
    "    commodity_input: str         # INPUT commodity\n",
    "    commodity_output: str        # OUTPUT commodity\n",
    "    availability_year: int       # first year\n",
    "    inp_nodes: Optional[list] = None\n",
    "    outp_nodes: Optional[list] = None\n",
    "    capexp_node: Optional[str] = None\n",
    "    active_yrtimes: Optional[list] = None\n",
    "    input_capacity: int = None"
   ]
  },
  {
   "cell_type": "code",
   "execution_count": 5,
   "id": "b7b63444-a871-4715-b004-2dd46ded30f1",
   "metadata": {},
   "outputs": [],
   "source": [
    "initial_plants = [\n",
    "    Plant(\n",
    "        id='plant-existing-0-0',\n",
    "        remaining_life=5,\n",
    "        output_capacity = 2000,\n",
    "        io_ratio = 0.8,\n",
    "        capex = 0,\n",
    "        opex = 1,\n",
    "        commodity_input = \"INPUT\",\n",
    "        commodity_output = \"OUTPUT\",\n",
    "        availability_year = 0,\n",
    "        input_capacity = int(2000/0.8),\n",
    "    ),\n",
    "    Plant(\n",
    "        id='plant-existing-0-1',\n",
    "        remaining_life=15,\n",
    "        output_capacity = 5000,\n",
    "        io_ratio = 0.6,\n",
    "        capex = 0,\n",
    "        opex=2,\n",
    "        commodity_input = \"INPUT\",\n",
    "        commodity_output = \"OUTPUT\",\n",
    "        availability_year = 0,\n",
    "        input_capacity = int(5000/0.6),\n",
    "    )\n",
    "]"
   ]
  },
  {
   "cell_type": "code",
   "execution_count": 6,
   "id": "a08b8590-25c2-4c84-b96a-1208509dae6a",
   "metadata": {},
   "outputs": [],
   "source": [
    "new_plants = [\n",
    "    [\n",
    "        Plant(\n",
    "            id=f'plant-new-{year}-0',\n",
    "            remaining_life=10,\n",
    "            output_capacity=1000,\n",
    "            io_ratio = 0.8-0.2*(year/30),\n",
    "            capex = 1500*1000,\n",
    "            opex = 1,\n",
    "            availability_year = year,\n",
    "            commodity_input = \"INPUT\",\n",
    "            commodity_output = \"OUTPUT\",\n",
    "            input_capacity = int(1000/( 0.8-0.2*(year/30))),\n",
    "        ),\n",
    "        Plant(\n",
    "            id=f'plant-new-{year}-1',\n",
    "            remaining_life=20,\n",
    "            output_capacity=2000,\n",
    "            io_ratio =  0.6-0.1*(year/30),\n",
    "            capex = 1000*2000,\n",
    "            opex = 2,\n",
    "            availability_year = year,\n",
    "            commodity_input = \"INPUT\",\n",
    "            commodity_output = \"OUTPUT\",\n",
    "            input_capacity = int(2000/(0.6-0.1*(year/30))),\n",
    "        ),\n",
    "    ]\n",
    "    for year in range(30)\n",
    "]\n",
    "all_plants = initial_plants + list(chain(*new_plants))"
   ]
  },
  {
   "cell_type": "markdown",
   "id": "1e0e7a1a-14d5-4fd5-b85b-121b9cd60671",
   "metadata": {},
   "source": [
    "**Set some demands**"
   ]
  },
  {
   "cell_type": "code",
   "execution_count": 7,
   "id": "3bcddc10-caa6-4546-97af-b6aeb72b07f8",
   "metadata": {},
   "outputs": [],
   "source": [
    "times = range(12)\n",
    "years = range(30)\n",
    "peak_demands = {yr:6000+500*yr for yr in years}\n",
    "yr_time_demand = {f'{yr}-{t}':int(0.5*peak_demands[yr]+0.5*peak_demands[yr]*(1-(abs((t-6)/6)))) for yr, t in product(years, times)}\n",
    "commodities = [\"INPUT\",\"OUTPUT\"]"
   ]
  },
  {
   "cell_type": "markdown",
   "id": "0df89d27-e0b2-4052-85a9-f14dc6b08714",
   "metadata": {},
   "source": [
    "### BUILD THE GRAPH"
   ]
  },
  {
   "cell_type": "code",
   "execution_count": 8,
   "id": "de1379a6-7f60-468e-bd0a-02569b1529ea",
   "metadata": {},
   "outputs": [],
   "source": [
    "import networkx as nx"
   ]
  },
  {
   "cell_type": "code",
   "execution_count": 9,
   "id": "dea514b1-0fe0-4981-810a-b3b13fd33237",
   "metadata": {},
   "outputs": [],
   "source": [
    "G = nx.DiGraph()"
   ]
  },
  {
   "cell_type": "markdown",
   "id": "4eaeedf5-8a98-4e21-aeec-c5218a4550ec",
   "metadata": {},
   "source": [
    "**Add all the Nodes**"
   ]
  },
  {
   "cell_type": "code",
   "execution_count": 10,
   "id": "3db3ca88-b223-42d8-b220-647247f59071",
   "metadata": {},
   "outputs": [],
   "source": [
    "# commodity buses\n",
    "commodity_nodes = ['-'.join([commodity,yr_time]) for commodity, yr_time in product(commodities, yr_time_demand.keys())]"
   ]
  },
  {
   "cell_type": "code",
   "execution_count": 11,
   "id": "fe95bf22-efb0-4ec4-aeb2-a41dd0a88b57",
   "metadata": {},
   "outputs": [],
   "source": [
    "G.add_nodes_from(commodity_nodes)"
   ]
  },
  {
   "cell_type": "code",
   "execution_count": 12,
   "id": "66561909-3abc-4e25-9534-4e3259c2672d",
   "metadata": {},
   "outputs": [],
   "source": [
    "# add existing plants and new plants\n",
    "for plant in all_plants:\n",
    "    # add input nodes\n",
    "    plant.active_yrtimes = [[yr,t] for yr, t in product(range(plant.availability_year, min(30,plant.availability_year+plant.remaining_life)), times)]\n",
    "    #inp_nodes = [f'{plant.id}-{yr}-{t}-{plant.commodity_input}' for yr, t in product(range(plant.availability_year, min(30,plant.availability_year+plant.remaining_life)), times)]\n",
    "    # add output nodes\n",
    "    #outp_nodes = [f'{plant.id}-{yr}-{t}-{plant.commodity_output}' for yr, t in product(range(plant.availability_year, min(30,plant.availability_year+plant.remaining_life)), times)]\n",
    "    # add cap_exp_node\n",
    "    # add_nodes = inp_nodes + outp_nodes + [f'{plant.id}-capexp']\n",
    "    # plant.inp_nodes = inp_nodes\n",
    "    # plant.outp_nodes = outp_nodes\n",
    "    # plant.capexp_node = f'{plant.id}-capexp'\n",
    "    plant_nodes = [f'{plant.id}-{yr}-{t}' for yr, t in product(range(plant.availability_year, min(30,plant.availability_year+plant.remaining_life)), times)]\n",
    "    G.add_nodes_from(plant_nodes)"
   ]
  },
  {
   "cell_type": "code",
   "execution_count": 13,
   "id": "89e37a22-b9d0-4168-bcd0-d5abdd3e2d17",
   "metadata": {},
   "outputs": [],
   "source": [
    "plants_dict = {p.id: p for p in all_plants}"
   ]
  },
  {
   "cell_type": "code",
   "execution_count": 14,
   "id": "8c61e415-3b02-43a3-83e5-f089732d1042",
   "metadata": {},
   "outputs": [],
   "source": [
    "# add optimisation nodes\n",
    "global_demand = sum(yr_time_demand.values())\n",
    "LARGE_VAL = global_demand*100\n",
    "optim_nodes = [\n",
    "    ('GLOBAL_DEMAND',{'demand':global_demand}),\n",
    "    ('GLOBAL_SUPPLY',{'demand':-LARGE_VAL}),\n",
    "    ('LOSS_SINK',{'demand':LARGE_VAL-global_demand}),\n",
    "    # ('CAPEXP_SOURCE',{'demand':-LARGE_VAL}),\n",
    "    # ('CAPEXP_SINK',{'demand':LARGE_VAL}),\n",
    "]\n",
    "G.add_nodes_from(optim_nodes)"
   ]
  },
  {
   "cell_type": "markdown",
   "id": "4af1cfc7-5e43-487c-9d16-09171fcaa5dd",
   "metadata": {},
   "source": [
    "**Add all the edges**\n",
    "\n",
    "*... here be dragons...*"
   ]
  },
  {
   "cell_type": "code",
   "execution_count": 15,
   "id": "93c6c473-93a4-4be5-a2f5-fd641f792a39",
   "metadata": {},
   "outputs": [],
   "source": [
    "### ENERGY FLOW\n",
    "# input & output edges\n",
    "input_edges = [ ('GLOBAL_SUPPLY','-'.join(['INPUT',yr_time]),{'capacity':LARGE_VAL,'cost_var':0,'cost_fixed':0}) for yr_time in yr_time_demand.keys()]\n",
    "output_edges = [('-'.join(['OUTPUT',yr_time]),'GLOBAL_DEMAND',{'capacity':val, 'cost_var':0, 'cost_fixed':0}) for yr_time, val in yr_time_demand.items()]\n",
    "G.add_edges_from(input_edges+output_edges)"
   ]
  },
  {
   "cell_type": "code",
   "execution_count": 16,
   "id": "8a08c9af-10bd-4b7d-b7ea-b787b7d1d968",
   "metadata": {},
   "outputs": [],
   "source": [
    "# plant endges\n",
    "for plant in all_plants:\n",
    "    input_edges =  [('-'.join([plant.commodity_input,str(yr),str(t)]), f'{plant.id}-{yr}-{t}', {'capacity':plant.input_capacity, 'cost_var':0, 'cost_fixed':0}) for yr,t in plant.active_yrtimes]# inp-commod to inp-plant\n",
    "    # bridge_edges = [(f'{plant.id}-{yr}-{t}-{plant.commodity_input}',f'{plant.id}-{yr}-{t}-{plant.commodity_output}', {'capacity':plant.output_capacity-1, 'cost_var':0, 'cost_fixed':0}) for yr,t in plant.active_yrtimes]\n",
    "    output_edges = [(f'{plant.id}-{yr}-{t}','-'.join([plant.commodity_output,str(yr),str(t)]), {'capacity':plant.output_capacity, 'cost_var':plant.opex, 'cost_fixed':0}) for yr,t in plant.active_yrtimes]\n",
    "    loss_edges = [(f'{plant.id}-{yr}-{t}','LOSS_SINK', {'capacity':plant.input_capacity-plant.output_capacity, 'cost_var':0, 'cost_fixed':0}) for yr,t in plant.active_yrtimes]\n",
    "    # capexp_minus_edges = [(f'{plant.id}-{yr}-{t}-{plant.commodity_input}','CAPEX_SINK',{'capacity':1, 'cost_var':0, 'cost_fixed':0}) for yr,t in plant.active_yrtimes]\n",
    "    # capexp_plus_edges = [(plant.capexp_node,f'{plant.id}-{yr}-{t}-{plant.commodity_input}',{'capacity':1, 'cost_var':0, 'cost_fixed':0}) for yr,t in plant.active_yrtimes]\n",
    "    # capexp_edge = [('CAPEXP_SOURCE',plant.capexp_node,{'capacity':LARGE_VAL, 'cost_var':0, 'cost_fixed':plant.capex})]\n",
    "    G.add_edges_from(input_edges+output_edges+loss_edges)"
   ]
  },
  {
   "cell_type": "code",
   "execution_count": 17,
   "id": "03f193b3-0606-4c9a-8bda-408c5655815a",
   "metadata": {},
   "outputs": [],
   "source": [
    "# add bypasses\n",
    "#supply_bypass = ('GLOBAL_SUPPLY','LOSS_SINK',{'capacity':LARGE_VAL,'cost_var':LARGE_VAL*1e9,'cost_fixed':0})\n",
    "#capexp_bypass = ('CAPEXP_SOURCE','CAPEXP_SINK',{'capacity':LARGE_VAL,'cost_var':0,'cost_fixed':0})\n",
    "#G.add_edges_from([supply_bypass, capexp_bypass])"
   ]
  },
  {
   "cell_type": "code",
   "execution_count": null,
   "id": "e7391038-2b50-4882-b347-9df0bea7d6ed",
   "metadata": {},
   "outputs": [],
   "source": []
  },
  {
   "cell_type": "code",
   "execution_count": 18,
   "id": "15eca601-7246-43f1-b750-1be761e3bf3a",
   "metadata": {},
   "outputs": [],
   "source": [
    "from pulp import *"
   ]
  },
  {
   "cell_type": "code",
   "execution_count": 19,
   "id": "0a180d1e-d07e-45cc-8a69-5f53a8d1bf77",
   "metadata": {},
   "outputs": [],
   "source": [
    "model = LpProblem(\"graph_model_mincostflow\",LpMinimize)"
   ]
  },
  {
   "cell_type": "code",
   "execution_count": 20,
   "id": "ba982f83-53ab-439e-bfa5-76cc166afbb5",
   "metadata": {},
   "outputs": [],
   "source": [
    "# variables: only 2; \n",
    "F = LpVariable.dicts(\"Flows\",list(G.edges), lowBound=0, cat='continuous')\n",
    "capexp = LpVariable.dicts(\"CapExp\", [p.id for p in all_plants], 0,1, LpInteger)"
   ]
  },
  {
   "cell_type": "code",
   "execution_count": 21,
   "id": "bb43a519-08f1-48e7-88ef-fa6c369cb5dc",
   "metadata": {
    "tags": []
   },
   "outputs": [],
   "source": [
    "### CONSTRAINTS ###\n",
    "\n",
    "# for every node, sum(flows) + demand == 0\n",
    "for n, params in G.nodes.items():\n",
    "    model += sum([F[e_i] for e_i in G.in_edges(n)])-sum([F[e_o] for e_o in G.out_edges(n)]) - params.get('demand',0) == 0"
   ]
  },
  {
   "cell_type": "code",
   "execution_count": 22,
   "id": "c0e20ccd-f5a5-4c9a-b774-f62c806ac0c3",
   "metadata": {
    "tags": []
   },
   "outputs": [],
   "source": [
    "# for every edge, constrain capacity\n",
    "for (n_s, n_t), data in G.edges.items():\n",
    "    if 'plant' in n_s:\n",
    "        p_id = '-'.join(n_s.split('-')[0:4])\n",
    "        model += F[(n_s, n_t)] <= data['capacity'] * capexp[p_id]\n",
    "    elif 'plant' in n_t:\n",
    "        p_id = '-'.join(n_t.split('-')[0:4])\n",
    "        model += F[(n_s, n_t)] <= data['capacity'] * capexp[p_id]\n",
    "    else:\n",
    "        model += F[(n_s, n_t)] <= data['capacity']"
   ]
  },
  {
   "cell_type": "code",
   "execution_count": 23,
   "id": "3fd30679-144f-4024-998e-3ad7b30837e3",
   "metadata": {},
   "outputs": [],
   "source": [
    "# for each plant node, the LOSS_SINK flow == sum(flow_inp) * io_ratio\n",
    "for n_s, data in G.nodes.items():\n",
    "    if 'plant' in n_s:\n",
    "        p_id = '-'.join(n_s.split('-')[0:4])\n",
    "        model += F[(n_s, 'LOSS_SINK')] == sum([F[e_i] for e_i in G.in_edges(n_s)]) * (1. - plants_dict[p_id].io_ratio)"
   ]
  },
  {
   "cell_type": "code",
   "execution_count": 26,
   "id": "3fe7dd47-949e-4ffe-b384-4f62cc552643",
   "metadata": {},
   "outputs": [],
   "source": [
    "# sum costs\n",
    "flow_costs = [F[(n_s, n_t)] * e_data['cost_var'] for (n_s, n_t), e_data in G.edges.items()]\n",
    "capexp_costs = [capexp[p_id] * plants_dict[p_id].capex for p_id in capexp.keys()]\n",
    "total_cost = sum(flow_costs) + sum(capexp_costs)\n",
    "model += total_cost, \"Total Cost\""
   ]
  },
  {
   "cell_type": "code",
   "execution_count": 25,
   "id": "2462489b-3047-4ed9-96ca-0ad8b61f5000",
   "metadata": {},
   "outputs": [
    {
     "data": {
      "text/plain": [
       "<pulp.apis.gurobi_api.GUROBI_CMD at 0x7fcd3094da30>"
      ]
     },
     "execution_count": 25,
     "metadata": {},
     "output_type": "execute_result"
    }
   ],
   "source": [
    "GUROBI_CMD()"
   ]
  },
  {
   "cell_type": "code",
   "execution_count": null,
   "id": "43ac6e04-958f-403c-8832-67d3661b1c2e",
   "metadata": {},
   "outputs": [],
   "source": [
    "model.solve(GUROBI_CMD())"
   ]
  },
  {
   "cell_type": "code",
   "execution_count": null,
   "id": "c51cd6bd-bbd0-4a7e-84f6-75fd8d06306d",
   "metadata": {},
   "outputs": [],
   "source": [
    "print(LpStatus[model.status])"
   ]
  },
  {
   "cell_type": "code",
   "execution_count": null,
   "id": "2bab74c6-bca3-4755-b5f0-709583ef6872",
   "metadata": {},
   "outputs": [],
   "source": []
  },
  {
   "cell_type": "code",
   "execution_count": null,
   "id": "7e4f0762-f281-4fbb-987c-7ccbf4d7fa89",
   "metadata": {},
   "outputs": [],
   "source": [
    "for kk,vv in capexp.items():\n",
    "    print (kk,vv.value())"
   ]
  },
  {
   "cell_type": "code",
   "execution_count": null,
   "id": "a31f4e35-3b8c-42ca-b681-09773f5b22dc",
   "metadata": {},
   "outputs": [],
   "source": [
    "for kk,vv in F.items():\n",
    "    print (kk,vv.value())"
   ]
  },
  {
   "cell_type": "code",
   "execution_count": null,
   "id": "328c5683-d7f5-4efe-adac-8f5b248c188b",
   "metadata": {},
   "outputs": [],
   "source": [
    "### MILP\n",
    "# for every node, sum(flows)-demand==0\n",
    "# for every edge, flow<=capacity * capexp\n",
    "# for loss edge, flow==flow_inp*io_ratio\n",
    "# costs = sum(flow_costs)+capexp"
   ]
  }
 ],
 "metadata": {
  "kernelspec": {
   "display_name": "Python (gridlandia)",
   "language": "python",
   "name": "gridlandia"
  },
  "language_info": {
   "codemirror_mode": {
    "name": "ipython",
    "version": 3
   },
   "file_extension": ".py",
   "mimetype": "text/x-python",
   "name": "python",
   "nbconvert_exporter": "python",
   "pygments_lexer": "ipython3",
   "version": "3.8.13"
  }
 },
 "nbformat": 4,
 "nbformat_minor": 5
}
