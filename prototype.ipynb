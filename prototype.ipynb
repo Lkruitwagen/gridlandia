{
 "cells": [
  {
   "cell_type": "code",
   "execution_count": null,
   "id": "aee1e3b2",
   "metadata": {},
   "outputs": [],
   "source": [
    "from pulp import *\n",
    "#from geopy.distance import geodesic\n",
    "from pydantic import BaseModel\n",
    "#import geopandas as gpd"
   ]
  },
  {
   "cell_type": "code",
   "execution_count": null,
   "id": "05d93db8-8061-4728-988a-b9df202230cc",
   "metadata": {},
   "outputs": [],
   "source": [
    "import matplotlib.pyplot as plt"
   ]
  },
  {
   "cell_type": "code",
   "execution_count": null,
   "id": "21fed086-c6a2-4f0b-b8e1-1b32204b4ab1",
   "metadata": {},
   "outputs": [],
   "source": [
    "import numpy as np"
   ]
  },
  {
   "cell_type": "code",
   "execution_count": null,
   "id": "073f41ac",
   "metadata": {},
   "outputs": [],
   "source": [
    "from typing import List, Optional, Union"
   ]
  },
  {
   "cell_type": "markdown",
   "id": "19c3eb13",
   "metadata": {},
   "source": [
    "### Define our Classes"
   ]
  },
  {
   "cell_type": "code",
   "execution_count": null,
   "id": "d9c51449",
   "metadata": {},
   "outputs": [],
   "source": [
    "class Technology(BaseModel):\n",
    "    pass\n",
    "\n",
    "class GenerationTechnology(Technology):\n",
    "    name: str\n",
    "    construction_lead_years : int = 1 # years\n",
    "    emissions_rate: float             # t / MW-year\n",
    "    area_footprint: float             # sqkm / MW\n",
    "    capital_cost_var: float           # $/kW\n",
    "    capital_cost_fixed: float         # $\n",
    "    capital_cost_gr: float            # e.g. -0.05 -> 5% decrease/yr\n",
    "    opex: float                       # $ / kW\n",
    "    lifespan: int                     # number of years\n",
    "    \n",
    "    \n",
    "class TransmissionTechnology(Technology):\n",
    "    name: str\n",
    "    construction_lead_years : int = 1  # years\n",
    "    loss: float                        # % / km\n",
    "    capital_cost_var: float            # $/KW/km\n",
    "    capital_cost_fixed: float          # $\n",
    "    capital_cost_gr: float = 0.        # e.g. 0.06 -> 6% increase/yr\n",
    "    lifespan: int                      # number of years\n",
    "    \n",
    "class InitialTech(Technology):\n",
    "    ob_type: str\n",
    "    ob_key: Union[str,tuple]\n",
    "    tech_type: str\n",
    "    capacity: float # kw\n",
    "    age: int        # years\n",
    "    \n",
    "class Land(BaseModel):\n",
    "    name: str\n",
    "    cost: float                        # $ / sqm\n",
    "\n",
    "class Node(BaseModel):\n",
    "    id: str\n",
    "    solar_irradiance: float            # kWh/kW\n",
    "    area: float                        # sqkm\n",
    "    initial_landarea: dict              # dict(lc_key:percentage)\n",
    "    initial_population: int             # people\n",
    "    node_technologies: List[GenerationTechnology]\n",
    "    \n",
    "class Edge(BaseModel):\n",
    "    id: tuple\n",
    "    distance: float                    # km\n",
    "    edge_technologies: List[TransmissionTechnology]\n",
    "    \n",
    "class GrowthRate(BaseModel):\n",
    "    max_rate: float\n",
    "    min_rate:float \n",
    "    peak_year:int\n",
    "    half_decay:int\n",
    "    \n",
    "class GridlandiaGlobals(BaseModel):\n",
    "    population_gr: GrowthRate\n",
    "    final_energy_intensity: int # kWh/person/yr\n",
    "    final_energy_intensity_gr: GrowthRate \n",
    "    \n",
    "class GridLandiaConstraints(BaseModel):\n",
    "    net_zero_year: Optional[int]\n",
    "    land_constraints: Optional[int]"
   ]
  },
  {
   "cell_type": "code",
   "execution_count": null,
   "id": "4f30a0b3",
   "metadata": {},
   "outputs": [],
   "source": [
    "class GridWorld(object):\n",
    "    \n",
    "    def __init__(self, node_gdf:gpd.GeoDataFrame, column_labels: dict):\n",
    "        pass"
   ]
  },
  {
   "cell_type": "code",
   "execution_count": null,
   "id": "9ea33e00",
   "metadata": {},
   "outputs": [],
   "source": [
    "class Gridlandia(object):\n",
    "    def __init__(\n",
    "        self, \n",
    "        nodes: List[Nodes], \n",
    "        edges: List[Edges],\n",
    "        generation_technologies: List[GenerationTechnologies], \n",
    "        transmission_technologies: List[TransmissionTechnologies],, \n",
    "        global_params: GridlandiaGlobals,\n",
    "    ):\n",
    "        "
   ]
  },
  {
   "cell_type": "markdown",
   "id": "3232fef8",
   "metadata": {},
   "source": [
    "### Setup our problem"
   ]
  },
  {
   "cell_type": "code",
   "execution_count": null,
   "id": "86b0ac3b",
   "metadata": {},
   "outputs": [],
   "source": [
    "24000 # MJ/t\n",
    "300 # $/t\n",
    "0.2778 # kWh/MJ\n",
    "300/24000/.2778*3*8760 # $/kWh_th"
   ]
  },
  {
   "cell_type": "code",
   "execution_count": null,
   "id": "39db3753-7400-4862-b1d9-2c69f477bd74",
   "metadata": {},
   "outputs": [],
   "source": [
    "# demand 1100 kWh//yr/person\n",
    "1100/8760"
   ]
  },
  {
   "cell_type": "code",
   "execution_count": null,
   "id": "39df3bb5-ccc7-437e-b899-5d9c1c6cca69",
   "metadata": {},
   "outputs": [],
   "source": [
    "# $50/2000lbs -> $55/t -> 6150 kWh_t/t -> 8.943 $/MWh_t\n",
    "300/24000/.2778*3*8760"
   ]
  },
  {
   "cell_type": "code",
   "execution_count": null,
   "id": "b2d53740-125c-46be-9f6c-d7cc3e8ac86f",
   "metadata": {},
   "outputs": [],
   "source": [
    "# 8.943*3 -> 26.829 $/MWh_e"
   ]
  },
  {
   "cell_type": "code",
   "execution_count": null,
   "id": "cd94bf4d-e7f7-4229-8fe5-2f569cd0e4bf",
   "metadata": {},
   "outputs": [],
   "source": [
    "26.829*8760 # $ / MW / yr"
   ]
  },
  {
   "cell_type": "code",
   "execution_count": null,
   "id": "644ca8d3-05cf-4b10-bfe4-e84fcff7b3db",
   "metadata": {},
   "outputs": [],
   "source": [
    "300/24000/.2778*3*8760"
   ]
  },
  {
   "cell_type": "code",
   "execution_count": null,
   "id": "56c9b799",
   "metadata": {},
   "outputs": [],
   "source": [
    "# generation technologies\n",
    "generation_techs = dict(\n",
    "    utility_solar = dict(\n",
    "        emissions_rate=0,\n",
    "        area_footprint = 11300/1000/1000*3, # sqkm/MW (covered_area * tot_area_fac)\n",
    "        capital_cost_var = 4000000, # $/MW + land costs\n",
    "        capital_cost_fixed=5e5, # $/yr\n",
    "        capital_cost_gr = -0.1,\n",
    "        opex=0,\n",
    "        lifespan=40,\n",
    "    ),\n",
    "    distributed_solar = dict(\n",
    "        emissions_rate =0,\n",
    "        area_footprint = 0,\n",
    "        capital_cost_var = 6000000, # $/MW\n",
    "        capital_cost_fixed = 1e3,\n",
    "        capital_cost_gr = -0.1,\n",
    "        opex=0,\n",
    "        lifespan=30,\n",
    "    ),\n",
    "    coal_thermal = dict(\n",
    "        construction_lead_years=5,\n",
    "        emissions_rate=8760, # 1t/MWh*8760hrs\n",
    "        area_footprint=0,\n",
    "        capital_cost_var=600000, # $/MW\n",
    "        capital_cost_fixed = 1e6,\n",
    "        capital_cost_gr = 0.,\n",
    "        opex = 26.829,#*8760, # $/MW_e/yr\n",
    "        lifespan=35,\n",
    "    )\n",
    ")       "
   ]
  },
  {
   "cell_type": "code",
   "execution_count": null,
   "id": "e23fca7b",
   "metadata": {},
   "outputs": [],
   "source": [
    "# transmission technologies\n",
    "transmission_techs = dict(\n",
    "    distribution = dict(\n",
    "        loss=0.001,       # 0.1% / km\n",
    "        capital_cost_var=10/1000, # $/Mw/km\n",
    "        capital_cost_fixed=1e3,\n",
    "        lifespan=30,\n",
    "    ),\n",
    "    transmission_220 = dict(\n",
    "        loss=0.0004,\n",
    "        capital_cost_var = 20/1000, # $/MW/km\n",
    "        capital_cost_fixed=1e5,\n",
    "        lifespan=40,\n",
    "    ),\n",
    "    transmission_660 = dict(\n",
    "        construction_lead_years=2,\n",
    "        loss=0.0001,\n",
    "        capital_cost_var = 40/1000, # $/MW/km\n",
    "        capital_cost_fixed=1e6,\n",
    "        lifespan=40\n",
    "    )\n",
    ")"
   ]
  },
  {
   "cell_type": "code",
   "execution_count": null,
   "id": "1765260f",
   "metadata": {},
   "outputs": [],
   "source": [
    "# landcover/use types:\n",
    "land_uses = dict(\n",
    "    builtup = dict(cost=70),\n",
    "    forest = dict(cost=30),\n",
    "    barren = dict(cost=10),\n",
    "    agriculture = dict(cost=15),\n",
    "    plantation = dict(cost=35),\n",
    ")"
   ]
  },
  {
   "cell_type": "code",
   "execution_count": null,
   "id": "0c66657d",
   "metadata": {},
   "outputs": [],
   "source": [
    "gridland_globals = GridlandiaGlobals(\n",
    "    population_gr= GrowthRate(max_rate=0.015, min_rate=0.003, peak_year=2025,half_decay=2040),\n",
    "    final_energy_intensity=1,\n",
    "    final_energy_intensity_gr=GrowthRate(max_rate=0.04, min_rate=0.005, peak_year=2030,half_decay=2050),\n",
    ")"
   ]
  },
  {
   "cell_type": "code",
   "execution_count": null,
   "id": "06867520-2353-404d-b26a-7e0d8ef2c134",
   "metadata": {},
   "outputs": [],
   "source": [
    "gridland_globals.population_gr.__dict__"
   ]
  },
  {
   "cell_type": "code",
   "execution_count": null,
   "id": "f9436196-c327-42e5-8cd4-dd795d02a980",
   "metadata": {},
   "outputs": [],
   "source": [
    "# peak growth year; peak gr, baseline gr, "
   ]
  },
  {
   "cell_type": "code",
   "execution_count": null,
   "id": "7877dc53-9e1d-48ae-8ee4-35c354244d79",
   "metadata": {},
   "outputs": [],
   "source": [
    "def _sigmoid(x):\n",
    "    return np.exp(x) / (1+np.exp(x))"
   ]
  },
  {
   "cell_type": "code",
   "execution_count": null,
   "id": "c38df6af-d04a-4d78-8fbe-e233022b2d50",
   "metadata": {},
   "outputs": [],
   "source": [
    "def D_sigmoid(x):\n",
    "    return _sigmoid(x)*(1-_sigmoid(x))"
   ]
  },
  {
   "cell_type": "code",
   "execution_count": null,
   "id": "46e0e899-ad21-405e-87a5-fbd7f9eb3c4a",
   "metadata": {},
   "outputs": [],
   "source": [
    "def growth_rate_bell(max_rate, min_rate, peak_year, half_decay):\n",
    "    \"\"\" return a function which can calculate a rate in a given year with a curve with the input params\"\"\"\n",
    "    \n",
    "    def gr_fn(x):\n",
    "        return min_rate + D_sigmoid((x-peak_year)*1.76274/(half_decay-peak_year))/0.25*(max_rate-min_rate)\n",
    "    \n",
    "    return gr_fn"
   ]
  },
  {
   "cell_type": "markdown",
   "id": "bba27f88",
   "metadata": {},
   "source": [
    "### Test our solvers"
   ]
  },
  {
   "cell_type": "code",
   "execution_count": null,
   "id": "0e19a64a",
   "metadata": {
    "tags": []
   },
   "outputs": [],
   "source": [
    "pulpTestAll()"
   ]
  },
  {
   "cell_type": "markdown",
   "id": "343ab444",
   "metadata": {},
   "source": [
    "### Setup our problem\n",
    "- build nodes\n",
    "- build edges\n",
    "- Mixin special settings\n",
    "- set initial tech\n",
    "- declare vars\n",
    "- declare constraints\n",
    "- declare affines"
   ]
  },
  {
   "cell_type": "code",
   "execution_count": null,
   "id": "092ac9f5",
   "metadata": {},
   "outputs": [],
   "source": [
    "problem = Gridlandia(nodes, edges, etc)\n",
    "problem.solve()\n",
    "for var in problem.vars:"
   ]
  },
  {
   "cell_type": "markdown",
   "id": "e10026aa-062c-417b-95b4-2071d087f50d",
   "metadata": {},
   "source": [
    "**todo:**\n",
    "- max capacity add\n",
    "- land use constraint\n",
    "- land use simulation"
   ]
  },
  {
   "cell_type": "markdown",
   "id": "571b6141",
   "metadata": {},
   "source": [
    "## Toyest toy: Two nodes capacity planning"
   ]
  },
  {
   "cell_type": "code",
   "execution_count": null,
   "id": "3889b7e2",
   "metadata": {},
   "outputs": [],
   "source": [
    "all_gen_techs = [GenerationTechnology(name=kk,**vv) for kk,vv in generation_techs.items()]"
   ]
  },
  {
   "cell_type": "code",
   "execution_count": null,
   "id": "84d31588",
   "metadata": {},
   "outputs": [],
   "source": [
    "all_transmission_tech = [TransmissionTechnology(name=kk,**vv) for kk,vv in transmission_techs.items()]"
   ]
  },
  {
   "cell_type": "code",
   "execution_count": null,
   "id": "83524106",
   "metadata": {},
   "outputs": [],
   "source": [
    "initial_techs = [\n",
    "    InitialTech(\n",
    "        ob_type='node',\n",
    "        ob_key='node_1',\n",
    "        tech_type='coal_thermal',\n",
    "        capacity=15,\n",
    "        age=15\n",
    "    ),\n",
    "    InitialTech(\n",
    "        ob_type='edge',\n",
    "        ob_key=('node_1','node_2'),\n",
    "        tech_type='distribution',\n",
    "        capacity=15,\n",
    "        age=20\n",
    "    ),\n",
    "]"
   ]
  },
  {
   "cell_type": "code",
   "execution_count": null,
   "id": "13f0e001",
   "metadata": {},
   "outputs": [],
   "source": [
    "node_1 = Node(\n",
    "    id='node_1',\n",
    "    solar_irradiance=800, \n",
    "    area=50,\n",
    "    initial_landarea=dict(meow=1.),\n",
    "    initial_population=1e5,\n",
    "    node_technologies= all_gen_techs,\n",
    ")"
   ]
  },
  {
   "cell_type": "code",
   "execution_count": null,
   "id": "2281f981",
   "metadata": {},
   "outputs": [],
   "source": [
    "node_2 = Node(\n",
    "    id='node_2',\n",
    "    solar_irradiance=1400, \n",
    "    area=100,\n",
    "    initial_landarea=dict(meow=1.),\n",
    "    initial_population=5e4,\n",
    "    node_technologies= all_gen_techs,\n",
    ")"
   ]
  },
  {
   "cell_type": "code",
   "execution_count": null,
   "id": "89b6799d",
   "metadata": {},
   "outputs": [],
   "source": [
    "edge_1_2 = Edge(\n",
    "    id=('node_1','node_2'),\n",
    "    distance=100,\n",
    "    edge_technologies=all_transmission_tech\n",
    ")"
   ]
  },
  {
   "cell_type": "code",
   "execution_count": null,
   "id": "cd956e6d",
   "metadata": {},
   "outputs": [],
   "source": [
    "nodes = {node.id:node for node in [node_1, node_2]}\n",
    "edges = {edge.id:edge for edge in [edge_1_2]}"
   ]
  },
  {
   "cell_type": "code",
   "execution_count": null,
   "id": "75c365a6",
   "metadata": {},
   "outputs": [],
   "source": [
    "years = list(range(2020,2070))"
   ]
  },
  {
   "cell_type": "code",
   "execution_count": null,
   "id": "0fcccada",
   "metadata": {},
   "outputs": [],
   "source": [
    "### declare model\n",
    "model = LpProblem(\"energy_capacity_least_costs\",LpMinimize)"
   ]
  },
  {
   "cell_type": "code",
   "execution_count": null,
   "id": "3b4428ed",
   "metadata": {},
   "outputs": [],
   "source": [
    "from collections import defaultdict\n",
    "from itertools import product"
   ]
  },
  {
   "cell_type": "code",
   "execution_count": null,
   "id": "6dd10059",
   "metadata": {},
   "outputs": [],
   "source": [
    "def fill_product(d, list_a, list_b, list_c, default_val):\n",
    "    for el_a in list_a:\n",
    "        d[el_a] = {}\n",
    "        for el_b in list_b:\n",
    "            if list_c is None:\n",
    "                d[el_a][el_b] = default_val\n",
    "            else:\n",
    "                d[el_a][el_b] = {}\n",
    "                for el_c in list_c:\n",
    "                    d[el_a][el_b][el_c] = default_val\n",
    "    return d"
   ]
  },
  {
   "cell_type": "code",
   "execution_count": null,
   "id": "dc84289a",
   "metadata": {},
   "outputs": [],
   "source": [
    "# setup vars: ini capacities\n",
    "initial_node_capacity = fill_product({}, nodes.keys(), generation_techs.keys(),years, 0)\n",
    "initial_edge_capacity = fill_product({}, edges.keys(), transmission_techs.keys(),years, 0)\n",
    "\n",
    "    \n",
    "for initial_tech in initial_techs:\n",
    "    if initial_tech.ob_type=='node':\n",
    "        for year in range(min(years),min(years)+generation_techs[initial_tech.tech_type]['lifespan']-initial_tech.age):\n",
    "            initial_node_capacity[initial_tech.ob_key][initial_tech.tech_type][year] += initial_tech.capacity\n",
    "    elif initial_tech.ob_type=='edge':\n",
    "        for year in range(min(years),min(years)+transmission_techs[initial_tech.tech_type]['lifespan']-initial_tech.age):\n",
    "            initial_edge_capacity[initial_tech.ob_key][initial_tech.tech_type][year] += initial_tech.capacity"
   ]
  },
  {
   "cell_type": "code",
   "execution_count": null,
   "id": "ea0619b8",
   "metadata": {},
   "outputs": [],
   "source": [
    "# setup vars: node demands\n",
    "population_gr_years = growth_rate_bell(**gridland_globals.population_gr.__dict__)(np.array(years))\n",
    "energy_intensity_gr_years = growth_rate_bell(**gridland_globals.final_energy_intensity_gr.__dict__)(np.array(years))\n",
    "\n",
    "node_demand = fill_product({}, nodes.keys(), years,None,0)\n",
    "for node_id in nodes.keys():\n",
    "    for ii_y, year in enumerate(years):\n",
    "        # node_demand = pop_in_node_yr * energy_intensity_in_node_yr / 8760\n",
    "        pop_in_node_yr = nodes[node_id].initial_population*np.prod((1.+population_gr_years[:ii_y]))\n",
    "        energy_intensity_in_node_yr = gridland_globals.final_energy_intensity*np.prod((1.+energy_intensity_gr_years[:ii_y]))\n",
    "        node_demand[node_id][year] = pop_in_node_yr * energy_intensity_in_node_yr / 8760"
   ]
  },
  {
   "cell_type": "code",
   "execution_count": null,
   "id": "89b547c1",
   "metadata": {},
   "outputs": [],
   "source": [
    "all_distances = {kk:vv.distance for kk,vv in edges.items()}\n",
    "all_distances.update({(kk[1],kk[0]):vv.distance for kk,vv in edges.items()})"
   ]
  },
  {
   "cell_type": "code",
   "execution_count": null,
   "id": "fe0ac3c8",
   "metadata": {},
   "outputs": [],
   "source": [
    "### variables\n",
    "# flows in [edges, years]\n",
    "#F = LpVariable.dicts(\"Flows\",(edges.keys(),transmission_techs.keys(),years), cat='continuous')\n",
    "reverse_edge_keys = [(e[1],e[0]) for e in edges.keys()]\n",
    "F = LpVariable.dicts(\"Flows\",(reverse_edge_keys+list(edges.keys()),transmission_techs.keys(),years), lowBound=0, cat='continuous')\n",
    "# capacities_additions in [nodes, technologies, year]\n",
    "Cap_add_nodes = LpVariable.dicts(\"Cap_Add_nodes\", (nodes.keys(), generation_techs.keys(), years), lowBound=0, cat='continuous')\n",
    "# capacity_additions in [edges, technologies, year]\n",
    "Cap_add_edges = LpVariable.dicts(\"Cap_Add_edges\", (edges.keys(), transmission_techs.keys(), years), lowBound=0, cat='continuous')\n",
    "# construction transit vars\n",
    "Construction_node_bool = LpVariable.dicts(\"Constr_nodes\", (nodes.keys(), generation_techs.keys(), years), 0,1, LpInteger)\n",
    "Construction_edge_bool = LpVariable.dicts(\"Constr_edges\", (edges.keys(), transmission_techs.keys(), years), 0,1, LpInteger)\n",
    "Flow_direction_bool = LpVariable.dicts(\"Flow_direction\", (edges.keys(), transmission_techs.keys(), years), 0,1, LpInteger)\n",
    "# Generation in [nodes, technologies, year]\n",
    "Gen_nodes = LpVariable.dicts(\"Gen\", (nodes.keys(), generation_techs.keys(), years), lowBound=0, cat='continuous')\n",
    "\n",
    "# construction boolean forcing"
   ]
  },
  {
   "cell_type": "code",
   "execution_count": null,
   "id": "d69d65d9",
   "metadata": {},
   "outputs": [],
   "source": [
    "# build affines\n",
    "supply_capacities = {}\n",
    "for node_id, tech_id, year in product(nodes.keys(),generation_techs.keys(),years):\n",
    "    # initial + additional - retirement\n",
    "    supply_capacities[(node_id,tech_id,year)] = initial_node_capacity[node_id][tech_id][year] + sum([Cap_add_nodes[node_id][tech_id][build_year] for build_year in range(max(min(years),year-generation_techs[tech_id]['lifespan']),year+1)])\n",
    "\n",
    "transmission_capacities = {}\n",
    "for edge_id, tech_id, year in product(edges.keys(),transmission_techs.keys(),years):\n",
    "    # initial + additional - retirement\n",
    "    transmission_capacities[(edge_id,tech_id,year)] = initial_edge_capacity[edge_id][tech_id][year] + sum([Cap_add_edges[edge_id][tech_id][build_year] for build_year in range(max(min(years),year-transmission_techs[tech_id]['lifespan']),year+1)])\n",
    "    \n",
    "supply = {}\n",
    "for node_id, year in product(nodes.keys(), years):\n",
    "    supply[(node_id, year)] = sum([Gen_nodes[node_id][tech_id][year] for tech_id in generation_techs.keys()])\n",
    "    \n",
    "netflow = {}\n",
    "for node_id, year in product(nodes.keys(), years):\n",
    "    # sum( inflow*eff - outflow)\n",
    "    #\n",
    "    netflow[(node_id,year)] = sum([F[e][t][year]*(1-transmission_techs[t]['loss']*all_distances[e])  for e in reverse_edge_keys+list(edges.keys()) for t in transmission_techs.keys() if e[1]==node_id]) - \\\n",
    "                             sum([F[e][t][year] for e in reverse_edge_keys+list(edges.keys()) for t in transmission_techs.keys() if e[0]==node_id])"
   ]
  },
  {
   "cell_type": "code",
   "execution_count": null,
   "id": "b0e37ddd",
   "metadata": {},
   "outputs": [],
   "source": [
    "### contraints\n",
    "# demand satisficing and conservation -> supply in techs + netflow - demand =0 in (nodes, years)\n",
    "for node_id, year in product(nodes.keys(), years):\n",
    "    model += supply[(node_id, year)] + netflow[(node_id,year)] - node_demand[node_id][year] == 0"
   ]
  },
  {
   "cell_type": "code",
   "execution_count": null,
   "id": "d5918f45",
   "metadata": {},
   "outputs": [],
   "source": [
    "# supply capacity\n",
    "for n, t, year in product(nodes.keys(), generation_techs.keys(), years):\n",
    "    model += Gen_nodes[n][t][year]<=supply_capacities[(n,t,year)]"
   ]
  },
  {
   "cell_type": "code",
   "execution_count": null,
   "id": "1678eef2",
   "metadata": {},
   "outputs": [],
   "source": [
    "# edge flow capacity\n",
    "for e, t, year in product(edges.keys(), transmission_techs.keys(), years):\n",
    "    model += F[e][t][year]<=transmission_capacities[(e,t,year)]\n",
    "    # constrain the reverse direction also\n",
    "    model += F[(e[1],e[0])][t][year]<=transmission_capacities[(e,t,year)]"
   ]
  },
  {
   "cell_type": "code",
   "execution_count": null,
   "id": "68d6ee26-77af-4e74-8d3a-d2fb9bc1f907",
   "metadata": {},
   "outputs": [],
   "source": [
    "# total supply >= total demand\n",
    "for year in years:\n",
    "    model += sum([supply[(node_id,year)] for node_id in nodes.keys()]) >= sum([node_demand[node_id][year] for node_id in nodes.keys()])"
   ]
  },
  {
   "cell_type": "code",
   "execution_count": null,
   "id": "3dd8bbf7",
   "metadata": {},
   "outputs": [],
   "source": [
    "M = max([max(d.values()) for d in list(node_demand.values())])*1000 # a big number"
   ]
  },
  {
   "cell_type": "code",
   "execution_count": null,
   "id": "61c2865b",
   "metadata": {},
   "outputs": [],
   "source": [
    "# edge flow direction\n",
    "for e, t, year in product(edges.keys(), transmission_techs.keys(), years):\n",
    "    model += F[e][t][year] <= M*Flow_direction_bool[e][t][year]\n",
    "    model += F[(e[1],e[0])][t][year] <= M*(1-Flow_direction_bool[e][t][year])"
   ]
  },
  {
   "cell_type": "code",
   "execution_count": null,
   "id": "71bf43dd",
   "metadata": {},
   "outputs": [],
   "source": [
    "# construction forcing boolean\n",
    "# https://cs.stackexchange.com/questions/69531/greater-than-condition-in-integer-linear-program-with-a-binary-variable\n",
    "\n",
    "# C=0\n",
    "\n",
    "for n, t, year in product(nodes.keys(), generation_techs.keys(), years):\n",
    "    model += Cap_add_nodes[n][t][year] >= 1+-M*(1-Construction_node_bool[n][t][year]) # B≥C+1−M(1−A)\n",
    "    model += Cap_add_nodes[n][t][year] <= M*Construction_node_bool[n][t][year] # B≤C+MA\n",
    "    \n",
    "for e, t, year in product(edges.keys(), transmission_techs.keys(), years):\n",
    "    model += Cap_add_edges[e][t][year] >= 1+-M*(1-Construction_edge_bool[e][t][year]) # B≥C+1−M(1−A)\n",
    "    model += Cap_add_edges[e][t][year] <= M*Construction_edge_bool[e][t][year] # B≤C+MA"
   ]
  },
  {
   "cell_type": "code",
   "execution_count": null,
   "id": "803994dd",
   "metadata": {},
   "outputs": [],
   "source": [
    "# cost-years\n",
    "# simply for now, just fixed + variable in cap add\n",
    "cost = {}\n",
    "for year in years:\n",
    "    cost[year] = sum([Cap_add_nodes[n][gt][year]*generation_techs[gt]['capital_cost_var'] for n,gt in product(nodes.keys(), generation_techs.keys())]) + \\\n",
    "                 sum([Cap_add_edges[e][tt][year]*transmission_techs[tt]['capital_cost_var'] for e,tt in product(edges.keys(), transmission_techs.keys())]) + \\\n",
    "                 sum([Construction_node_bool[n][gt][year]*generation_techs[gt]['capital_cost_fixed'] for n,gt in product(nodes.keys(), generation_techs.keys())]) + \\\n",
    "                 sum([Construction_edge_bool[e][tt][year]*transmission_techs[tt]['capital_cost_fixed'] for e,tt in product(edges.keys(), transmission_techs.keys())]) + \\\n",
    "                 sum([Gen_nodes[n][gt][year]*generation_techs[gt]['opex'] for n,gt in product(nodes.keys(),generation_techs.keys())])"
   ]
  },
  {
   "cell_type": "code",
   "execution_count": null,
   "id": "ede38aa1",
   "metadata": {},
   "outputs": [],
   "source": [
    "total_cost = sum([cost[year] for year in years])"
   ]
  },
  {
   "cell_type": "code",
   "execution_count": null,
   "id": "3a3abf28",
   "metadata": {},
   "outputs": [],
   "source": [
    "model += total_cost, \"Total Cost\""
   ]
  },
  {
   "cell_type": "code",
   "execution_count": null,
   "id": "1c55c474",
   "metadata": {},
   "outputs": [],
   "source": [
    "model.solve(GUROBI_CMD())"
   ]
  },
  {
   "cell_type": "code",
   "execution_count": null,
   "id": "66e6719b",
   "metadata": {},
   "outputs": [],
   "source": [
    "print(LpStatus[model.status])"
   ]
  },
  {
   "cell_type": "code",
   "execution_count": null,
   "id": "2ec23afa",
   "metadata": {},
   "outputs": [],
   "source": [
    "for kk,vv in cost.items():\n",
    "    print (kk,vv.value())"
   ]
  },
  {
   "cell_type": "code",
   "execution_count": null,
   "id": "887fb063-2ef3-4a3b-9e62-e96963ce86bb",
   "metadata": {},
   "outputs": [],
   "source": [
    "node_demand"
   ]
  },
  {
   "cell_type": "code",
   "execution_count": null,
   "id": "d380ef83-8f8f-48e2-a415-0b1b0c6ae55f",
   "metadata": {
    "tags": []
   },
   "outputs": [],
   "source": [
    "for kk,vv in netflow.items():\n",
    "    print (kk, vv.value())"
   ]
  },
  {
   "cell_type": "code",
   "execution_count": null,
   "id": "0150d53e-4bc7-4f71-9eca-7b4af4716817",
   "metadata": {
    "tags": []
   },
   "outputs": [],
   "source": [
    "for kk,vv in Cap_add_edges.items():\n",
    "    for kk2, vv2 in vv.items():\n",
    "        for kk3, vv3 in vv2.items():\n",
    "            print (kk,kk2,kk3,vv3.value())"
   ]
  },
  {
   "cell_type": "code",
   "execution_count": null,
   "id": "953e96e5",
   "metadata": {
    "tags": []
   },
   "outputs": [],
   "source": [
    "for kk,vv in F.items():\n",
    "    for kk2, vv2 in vv.items():\n",
    "        for kk3, vv3 in vv2.items():\n",
    "            print (kk,kk2,kk3,vv3.value())"
   ]
  },
  {
   "cell_type": "code",
   "execution_count": null,
   "id": "516983ec",
   "metadata": {},
   "outputs": [],
   "source": [
    "for kk,vv in Gen_nodes.items():\n",
    "    for kk2, vv2 in vv.items():\n",
    "        for kk3, vv3 in vv2.items():\n",
    "            print (kk,kk2,kk3,vv3.value())\n",
    "    #print (kk,vv.keys())"
   ]
  },
  {
   "cell_type": "code",
   "execution_count": null,
   "id": "845a2c06",
   "metadata": {},
   "outputs": [],
   "source": [
    "for kk,vv in Cap_add_nodes.items():\n",
    "    for kk2, vv2 in vv.items():\n",
    "        for kk3, vv3 in vv2.items():\n",
    "            print (kk,kk2,kk3,vv3.value())\n",
    "    #print (kk,vv.keys())"
   ]
  },
  {
   "cell_type": "code",
   "execution_count": null,
   "id": "604ef9ee",
   "metadata": {},
   "outputs": [],
   "source": [
    "for kk,vv in Cap_add_edges.items():\n",
    "    for kk2, vv2 in vv.items():\n",
    "        for kk3, vv3 in vv2.items():\n",
    "            print (kk,kk2,kk3,vv3.value())\n",
    "    #print (kk,vv.keys())"
   ]
  },
  {
   "cell_type": "code",
   "execution_count": null,
   "id": "b5616174",
   "metadata": {},
   "outputs": [],
   "source": [
    "for kk,vv in Construction_node_bool.items():\n",
    "    for kk2, vv2 in vv.items():\n",
    "        for kk3, vv3 in vv2.items():\n",
    "            print (kk,kk2,kk3,vv3.value())\n",
    "    #print (kk,vv.keys())"
   ]
  },
  {
   "cell_type": "code",
   "execution_count": null,
   "id": "e3413051-9571-4065-88b0-db08f6b93c77",
   "metadata": {},
   "outputs": [],
   "source": []
  }
 ],
 "metadata": {
  "kernelspec": {
   "display_name": "Python 3 (ipykernel)",
   "language": "python",
   "name": "python3"
  },
  "language_info": {
   "codemirror_mode": {
    "name": "ipython",
    "version": 3
   },
   "file_extension": ".py",
   "mimetype": "text/x-python",
   "name": "python",
   "nbconvert_exporter": "python",
   "pygments_lexer": "ipython3",
   "version": "3.10.4"
  }
 },
 "nbformat": 4,
 "nbformat_minor": 5
}
